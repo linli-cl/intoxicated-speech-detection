{
 "cells": [
  {
   "cell_type": "code",
   "execution_count": null,
   "metadata": {},
   "outputs": [],
   "source": [
    "from datasets import load_dataset, Dataset, Audio\n",
    "import json\n",
    "import os\n",
    "import random\n"
   ]
  },
  {
   "attachments": {},
   "cell_type": "markdown",
   "metadata": {},
   "source": [
    "### https://huggingface.co/blog/mms_adapters\n",
    "### https://huggingface.co/blog/fine-tune-xlsr-wav2vec2"
   ]
  },
  {
   "attachments": {},
   "cell_type": "markdown",
   "metadata": {},
   "source": [
    "### Load ALC to huggingface dataset"
   ]
  },
  {
   "cell_type": "code",
   "execution_count": 2,
   "metadata": {},
   "outputs": [
    {
     "name": "stdout",
     "output_type": "stream",
     "text": [
      "14949\n",
      "12078\n"
     ]
    }
   ],
   "source": [
    "train_list = []\n",
    "train_labels = []\n",
    "val_list = []\n",
    "val_labels = []\n",
    "test_list = []\n",
    "test_labels = []\n",
    "data_dict = {}\n",
    "data_path = '/data/ALC_corpus/'\n",
    "for root, dirs, files in os.walk(data_path):\n",
    "   for file in files:\n",
    "      if file.endswith('h_00.wav') and not file.startswith('.'):\n",
    "         data_dict[file] = os.path.join(root, file)\n",
    "print(len(data_dict))\n",
    "\n",
    "with open('./file_name_split/control_list_only.json', 'r') as f:\n",
    "   control_l = json.load(f)\n",
    "with open('./file_name_split/train_list.json', 'r') as f:\n",
    "   train_l = json.load(f)\n",
    "with open('./file_name_split/val_list.json', 'r') as f:\n",
    "   val_l = json.load(f)\n",
    "with open('./file_name_split/test_list.json', 'r') as f:\n",
    "   test_l = json.load(f)\n",
    "\n",
    "train_l = train_l + control_l\n",
    "random.shuffle(train_l)\n",
    "\n",
    "for file in train_l:\n",
    "   train_list.append(data_dict[file])\n",
    "   codes = [x for x in file]\n",
    "   if codes[3] in ['1', '3']:\n",
    "      train_labels.append(1)\n",
    "   else:\n",
    "      train_labels.append(0)\n",
    "for file in val_l:\n",
    "   val_list.append(data_dict[file])\n",
    "   codes = [x for x in file]\n",
    "   if codes[3] in ['1', '3']:\n",
    "      val_labels.append(1)\n",
    "   else:\n",
    "      val_labels.append(0)\n",
    "for file in test_l:\n",
    "   test_list.append(data_dict[file])\n",
    "   codes = [x for x in file]\n",
    "   if codes[3] in ['1', '3']:\n",
    "      test_labels.append(1)\n",
    "   else:\n",
    "      test_labels.append(0)\n",
    "print(len(train_list))"
   ]
  },
  {
   "cell_type": "code",
   "execution_count": 3,
   "metadata": {},
   "outputs": [],
   "source": [
    "train_dataset = Dataset.from_dict({'audio': train_list, 'label': train_labels}).cast_column(\"audio\", Audio(sampling_rate=16_000))\n",
    "val_dataset = Dataset.from_dict({'audio': val_list, 'label': val_labels}).cast_column(\"audio\", Audio(sampling_rate=16_000))\n",
    "test_dataset = Dataset.from_dict({'audio': test_list, 'label': test_labels}).cast_column(\"audio\", Audio(sampling_rate=16_000))"
   ]
  },
  {
   "cell_type": "code",
   "execution_count": 4,
   "metadata": {},
   "outputs": [
    {
     "name": "stdout",
     "output_type": "stream",
     "text": [
      "device cuda\n"
     ]
    }
   ],
   "source": [
    "import torch\n",
    "device = torch.device(\"cuda\" if torch.cuda.is_available() else \"cpu\")\n",
    "print(f\"device {device}\")\n",
    "\n",
    "#os.environ['CUDA_VISIBLE_DEVICES'] = '2'\n",
    "\n",
    "from transformers import AutoFeatureExtractor\n",
    "\n",
    "feature_extractor = AutoFeatureExtractor.from_pretrained(\"facebook/wav2vec2-large-xlsr-53\")"
   ]
  },
  {
   "cell_type": "code",
   "execution_count": 6,
   "metadata": {},
   "outputs": [
    {
     "name": "stderr",
     "output_type": "stream",
     "text": [
      "                                                                 \r"
     ]
    }
   ],
   "source": [
    "def preprocess_function(examples):\n",
    "   audio_arrays = [x[\"array\"] for x in examples[\"audio\"]]\n",
    "   max_length = max([len(x[\"array\"]) for x in examples[\"audio\"]])\n",
    "   max_length = int(max_length *0.10)\n",
    "   #print(max_length)\n",
    "   inputs = feature_extractor(\n",
    "      audio_arrays, sampling_rate=feature_extractor.sampling_rate, max_length=max_length, truncation=True\n",
    "   )\n",
    "   return inputs\n",
    "\n",
    "encoded_train = train_dataset.map(preprocess_function, remove_columns=\"audio\", batched=True)\n",
    "encoded_val = val_dataset.map(preprocess_function, remove_columns=\"audio\", batched=True)\n",
    "encoded_test = test_dataset.map(preprocess_function, remove_columns=\"audio\", batched=True)"
   ]
  },
  {
   "cell_type": "code",
   "execution_count": 7,
   "metadata": {},
   "outputs": [],
   "source": [
    "import evaluate\n",
    "accuracy = evaluate.load(\"accuracy\")\n",
    "\n",
    "import numpy as np\n",
    "def compute_metrics(eval_pred):\n",
    "    predictions = np.argmax(eval_pred.predictions, axis=1)\n",
    "    return accuracy.compute(predictions=predictions, references=eval_pred.label_ids)"
   ]
  },
  {
   "cell_type": "code",
   "execution_count": 8,
   "metadata": {},
   "outputs": [
    {
     "name": "stderr",
     "output_type": "stream",
     "text": [
      "Some weights of the model checkpoint at facebook/wav2vec2-large-xlsr-53 were not used when initializing Wav2Vec2ForSequenceClassification: ['project_hid.bias', 'quantizer.codevectors', 'quantizer.weight_proj.weight', 'project_q.bias', 'quantizer.weight_proj.bias', 'project_hid.weight', 'project_q.weight']\n",
      "- This IS expected if you are initializing Wav2Vec2ForSequenceClassification from the checkpoint of a model trained on another task or with another architecture (e.g. initializing a BertForSequenceClassification model from a BertForPreTraining model).\n",
      "- This IS NOT expected if you are initializing Wav2Vec2ForSequenceClassification from the checkpoint of a model that you expect to be exactly identical (initializing a BertForSequenceClassification model from a BertForSequenceClassification model).\n",
      "Some weights of Wav2Vec2ForSequenceClassification were not initialized from the model checkpoint at facebook/wav2vec2-large-xlsr-53 and are newly initialized: ['projector.bias', 'classifier.weight', 'projector.weight', 'classifier.bias']\n",
      "You should probably TRAIN this model on a down-stream task to be able to use it for predictions and inference.\n"
     ]
    },
    {
     "name": "stdout",
     "output_type": "stream",
     "text": [
      "cuda\n"
     ]
    },
    {
     "data": {
      "text/plain": [
       "Wav2Vec2ForSequenceClassification(\n",
       "  (wav2vec2): Wav2Vec2Model(\n",
       "    (feature_extractor): Wav2Vec2FeatureEncoder(\n",
       "      (conv_layers): ModuleList(\n",
       "        (0): Wav2Vec2LayerNormConvLayer(\n",
       "          (conv): Conv1d(1, 512, kernel_size=(10,), stride=(5,))\n",
       "          (layer_norm): LayerNorm((512,), eps=1e-05, elementwise_affine=True)\n",
       "          (activation): GELUActivation()\n",
       "        )\n",
       "        (1-4): 4 x Wav2Vec2LayerNormConvLayer(\n",
       "          (conv): Conv1d(512, 512, kernel_size=(3,), stride=(2,))\n",
       "          (layer_norm): LayerNorm((512,), eps=1e-05, elementwise_affine=True)\n",
       "          (activation): GELUActivation()\n",
       "        )\n",
       "        (5-6): 2 x Wav2Vec2LayerNormConvLayer(\n",
       "          (conv): Conv1d(512, 512, kernel_size=(2,), stride=(2,))\n",
       "          (layer_norm): LayerNorm((512,), eps=1e-05, elementwise_affine=True)\n",
       "          (activation): GELUActivation()\n",
       "        )\n",
       "      )\n",
       "    )\n",
       "    (feature_projection): Wav2Vec2FeatureProjection(\n",
       "      (layer_norm): LayerNorm((512,), eps=1e-05, elementwise_affine=True)\n",
       "      (projection): Linear(in_features=512, out_features=1024, bias=True)\n",
       "      (dropout): Dropout(p=0.1, inplace=False)\n",
       "    )\n",
       "    (encoder): Wav2Vec2EncoderStableLayerNorm(\n",
       "      (pos_conv_embed): Wav2Vec2PositionalConvEmbedding(\n",
       "        (conv): Conv1d(1024, 1024, kernel_size=(128,), stride=(1,), padding=(64,), groups=16)\n",
       "        (padding): Wav2Vec2SamePadLayer()\n",
       "        (activation): GELUActivation()\n",
       "      )\n",
       "      (layer_norm): LayerNorm((1024,), eps=1e-05, elementwise_affine=True)\n",
       "      (dropout): Dropout(p=0.1, inplace=False)\n",
       "      (layers): ModuleList(\n",
       "        (0-23): 24 x Wav2Vec2EncoderLayerStableLayerNorm(\n",
       "          (attention): Wav2Vec2Attention(\n",
       "            (k_proj): Linear(in_features=1024, out_features=1024, bias=True)\n",
       "            (v_proj): Linear(in_features=1024, out_features=1024, bias=True)\n",
       "            (q_proj): Linear(in_features=1024, out_features=1024, bias=True)\n",
       "            (out_proj): Linear(in_features=1024, out_features=1024, bias=True)\n",
       "          )\n",
       "          (dropout): Dropout(p=0.1, inplace=False)\n",
       "          (layer_norm): LayerNorm((1024,), eps=1e-05, elementwise_affine=True)\n",
       "          (feed_forward): Wav2Vec2FeedForward(\n",
       "            (intermediate_dropout): Dropout(p=0.0, inplace=False)\n",
       "            (intermediate_dense): Linear(in_features=1024, out_features=4096, bias=True)\n",
       "            (intermediate_act_fn): GELUActivation()\n",
       "            (output_dense): Linear(in_features=4096, out_features=1024, bias=True)\n",
       "            (output_dropout): Dropout(p=0.1, inplace=False)\n",
       "          )\n",
       "          (final_layer_norm): LayerNorm((1024,), eps=1e-05, elementwise_affine=True)\n",
       "        )\n",
       "      )\n",
       "    )\n",
       "  )\n",
       "  (projector): Linear(in_features=1024, out_features=256, bias=True)\n",
       "  (classifier): Linear(in_features=256, out_features=2, bias=True)\n",
       ")"
      ]
     },
     "execution_count": 8,
     "metadata": {},
     "output_type": "execute_result"
    }
   ],
   "source": [
    "\n",
    "\n",
    "from transformers import Wav2Vec2Config, AutoModelForAudioClassification, TrainingArguments, Trainer\n",
    "label2id = {'0':0,'1':1}\n",
    "id2label = {0: '0', 1:'1'}\n",
    "num_labels = len(id2label)\n",
    "model = AutoModelForAudioClassification.from_pretrained(\"facebook/wav2vec2-large-xlsr-53\", \\\n",
    "                                                        num_labels=num_labels, label2id=label2id, \\\n",
    "                                                        id2label=id2label, \\\n",
    "                                                        cache_dir = '/data/huggingface_cache_dir')\n",
    "\n",
    "\n",
    "print(device) \n",
    "model.to(device)"
   ]
  },
  {
   "cell_type": "code",
   "execution_count": null,
   "metadata": {},
   "outputs": [],
   "source": [
    "from transformers import TrainingArguments, Trainer\n",
    "import transformers\n",
    "transformers.utils.logging.set_verbosity_debug()\n",
    "\n",
    "\n",
    "\n",
    "\n",
    "training_args = TrainingArguments(\n",
    "    output_dir=\"alc_wav2vec_control\",\n",
    "    evaluation_strategy=\"epoch\",\n",
    "    save_strategy=\"epoch\",\n",
    "    learning_rate=1e-4,\n",
    "    per_device_train_batch_size=1,\n",
    "    gradient_accumulation_steps=32,\n",
    "    per_device_eval_batch_size=1,\n",
    "    num_train_epochs=10,\n",
    "    warmup_ratio=0.1,\n",
    "    logging_steps=1,\n",
    "    load_best_model_at_end=True,\n",
    "    metric_for_best_model=\"accuracy\",\n",
    "    push_to_hub=False,\n",
    "    disable_tqdm=False,\n",
    "    fp16=True\n",
    ")\n",
    "\n",
    "trainer = Trainer(\n",
    "    model=model,\n",
    "    args=training_args,\n",
    "    train_dataset=encoded_train ,\n",
    "    eval_dataset=encoded_test,\n",
    "    tokenizer=feature_extractor,\n",
    "    compute_metrics=compute_metrics,\n",
    ")\n",
    "trainer.train()\n",
    "torch.save(model.state_dict(), \"alc_wav2vec_1e4_with_control.params\")"
   ]
  },
  {
   "cell_type": "markdown",
   "metadata": {},
   "source": [
    "# Inference"
   ]
  },
  {
   "cell_type": "code",
   "execution_count": 10,
   "metadata": {},
   "outputs": [],
   "source": [
    "\n",
    "in_values = encoded_test[\"input_values\"]\n",
    "in_labels = encoded_test[\"label\"]\n",
    "\n",
    "\n",
    "#for idx in range(len(encoded_val)):\n",
    "#    data_entry = encoded_val[0]\n",
    "#    print(data_entry)\n",
    "#    pred_class = model(data_entry)\n",
    "\n",
    "#torch.save(model.state_dict(), \"alc_model_fine_tuned.params\")"
   ]
  },
  {
   "cell_type": "code",
   "execution_count": 14,
   "metadata": {},
   "outputs": [],
   "source": [
    "model.load_state_dict(torch.load('./alc_wav2vec_1e4_without_control.params'))\n",
    "model.eval()\n",
    "\n",
    "predicted = []\n",
    "ground_truth = []\n",
    "for idx in range(len(in_values)):\n",
    "   data_entry = torch.tensor(in_values[idx]).to(\"cuda\")\n",
    "   data_label = in_labels[idx]\n",
    "\n",
    "   data_entry = torch.unsqueeze(data_entry, 0)\n",
    "   pred_class = model(data_entry)\n",
    "   pred_logits = pred_class.logits\n",
    "   pred_class = torch.softmax(pred_logits, 1)\n",
    "   pred_class = torch.squeeze(pred_class)\n",
    "\n",
    "   pred_class_index = torch.argmax(pred_class, 0)\n",
    "   pred_class_index = int(pred_class_index.cpu().detach())\n",
    "\n",
    "   predicted.append(pred_class_index)\n",
    "   ground_truth.append(data_label)\n"
   ]
  },
  {
   "cell_type": "markdown",
   "metadata": {},
   "source": [
    "### Analyse promts"
   ]
  },
  {
   "cell_type": "code",
   "execution_count": 23,
   "metadata": {},
   "outputs": [
    {
     "name": "stdout",
     "output_type": "stream",
     "text": [
      "len test list: 1436\n",
      "486\n",
      "950\n",
      "1204\n",
      "232\n",
      "total promts in test set\n",
      "0: 963\n",
      "1: 225\n",
      "2: 248\n",
      "correct classified\n",
      "0: 812\n",
      "1: 183\n",
      "2: 209\n",
      "wrongly classified\n",
      "0: 151\n",
      "1: 42\n",
      "2: 39\n"
     ]
    }
   ],
   "source": [
    "read_a = ['001','003', '004', '006', '007', '008','009', '011', '012', '013', '015', '016', '017', '019','020','021','023','024','029','030'] #read numbers, address, words, sentences, credit card numbers, auto numbers\n",
    "spontaneous_a = ['002', '014', '005','010','018'] \n",
    "command_control_a = ['022','025','026','027','028'] \n",
    "\n",
    "read_na = ['001','003','004','006','007','008','009','011','012','013','015', '016', '017', '019','020','021','023','024','026','027','028', '031','032','033','035','036','037','039','040','041','044','050','051','052','056','057','058','059','060']\n",
    "spontaneous_na = ['002','014','022','034', '005', '010', '018','025','030','038'] \n",
    "command_control_na = ['042','043','045','046','047','048','049','053','054','055']\n",
    "\n",
    "general_promts = []\n",
    "promts = []\n",
    "speakers = []\n",
    "\n",
    "with open('./file_name_split/test_list.json','r') as file:\n",
    "      test_list = json.load(file)\n",
    "print(f'len test list: {len(test_list)}')\n",
    "drunk = 0\n",
    "sober = 0\n",
    "for name in test_list:\n",
    "      codes = [x for x in name]\n",
    "      label = 1 if codes[3] in ['1', '3'] else 0\n",
    "      promt = ''.join(codes[7:10])\n",
    "      general_promts.append(promt)\n",
    "      speaker = ''.join(codes[:3])\n",
    "      speakers.append(speaker)\n",
    "      if label == 1:\n",
    "            drunk += 1\n",
    "            if promt in read_a:\n",
    "                  promts.append(0)\n",
    "            elif promt in spontaneous_a:\n",
    "                  promts.append(1)\n",
    "            else:\n",
    "                  promts.append(2)\n",
    "      else:\n",
    "            sober += 1\n",
    "            if promt in read_na:\n",
    "                  promts.append(0)\n",
    "            elif promt in spontaneous_na:\n",
    "                  promts.append(1)\n",
    "            else:\n",
    "                  promts.append(2)\n",
    "\n",
    "print(drunk)\n",
    "print(sober)\n",
    "\n",
    "\n",
    "\n",
    "correct_idx = [idx for idx,val in enumerate(predicted) if ground_truth[idx]==val]\n",
    "wrong_idx = [idx for idx,val in enumerate(predicted) if ground_truth[idx]!=val]\n",
    "\n",
    "print(len(correct_idx))\n",
    "print(len(wrong_idx))\n",
    "\n",
    "correct_pr = [promts[idx] for idx in correct_idx]\n",
    "wrong_pr = [promts[idx] for idx in wrong_idx]\n",
    "\n",
    "\n",
    "print('total promts in test set')\n",
    "prs, counts = torch.unique(torch.tensor(promts), return_counts=True)\n",
    "# Print the unique values and their corresponding counts\n",
    "for pr, count in zip(prs, counts):\n",
    "    print(f\"{pr}: {count}\")\n",
    "\n",
    "print('correct classified')\n",
    "prs, counts = torch.unique(torch.tensor(correct_pr), return_counts=True)\n",
    "# Print the unique values and their corresponding counts\n",
    "for pr, count in zip(prs, counts):\n",
    "    print(f\"{pr}: {count}\")\n",
    "\n",
    "print('wrongly classified')\n",
    "prs, counts = torch.unique(torch.tensor(wrong_pr), return_counts=True)\n",
    "# Print the unique values and their corresponding counts\n",
    "for pr, count in zip(prs, counts):\n",
    "    print(f\"{pr}: {count}\")"
   ]
  },
  {
   "cell_type": "code",
   "execution_count": 30,
   "metadata": {},
   "outputs": [
    {
     "name": "stdout",
     "output_type": "stream",
     "text": [
      "1436\n",
      "232\n",
      "43\n",
      "{'009': 13, '019': 12, '005': 11, '024': 10, '023': 9, '021': 9, '027': 8, '001': 8, '030': 8, '002': 8, '020': 8, '018': 8, '028': 7, '014': 7, '022': 7, '013': 7, '003': 7, '011': 7, '010': 6, '006': 6, '016': 6, '015': 6, '026': 6, '017': 6, '007': 5, '008': 4, '025': 4, '012': 3, '004': 3, '032': 3, '029': 3, '048': 2, '040': 2, '041': 2, '050': 2, '046': 2, '054': 1, '057': 1, '051': 1, '049': 1, '034': 1, '036': 1, '042': 1}\n",
      "{'056', '044', '047', '033', '059', '037', '053', '035', '055', '058', '052', '043', '039', '038', '045', '031', '060'}\n",
      "17\n"
     ]
    }
   ],
   "source": [
    "print(len(general_promts))\n",
    "promt_list = [general_promts[idx] for idx in wrong_idx]\n",
    "print(len(promt_list))\n",
    "promt_dict = {sp: promt_list.count(sp) for sp in set(promt_list)}\n",
    "print(len(promt_dict))\n",
    "sorted_dict = dict(sorted(promt_dict.items(), key=lambda item: item[1], reverse=True))\n",
    "print(sorted_dict)\n",
    "\n",
    "always_correct_promt = [pr for pr in general_promts if pr not in promt_list]\n",
    "print(set(always_correct_promt))\n",
    "print(len(set(always_correct_promt)))"
   ]
  },
  {
   "cell_type": "markdown",
   "metadata": {},
   "source": [
    "### Analyse speakers"
   ]
  },
  {
   "cell_type": "code",
   "execution_count": 29,
   "metadata": {},
   "outputs": [
    {
     "name": "stdout",
     "output_type": "stream",
     "text": [
      "{'053': 10, '100': 6, '572': 5, '051': 5, '009': 5, '523': 4, '594': 4, '019': 4, '585': 4, '058': 4, '015': 4, '081': 4, '054': 4, '586': 3, '043': 3, '094': 3, '036': 3, '047': 3, '057': 3, '099': 3, '029': 3, '031': 3, '511': 3, '096': 3, '050': 3, '055': 3, '018': 3, '547': 3, '506': 3, '091': 3, '587': 3, '086': 3, '560': 3, '097': 3, '548': 2, '555': 2, '562': 2, '595': 2, '556': 2, '074': 2, '578': 2, '522': 2, '087': 2, '581': 2, '557': 2, '030': 2, '508': 2, '075': 2, '049': 2, '521': 2, '026': 2, '551': 2, '500': 2, '010': 2, '070': 2, '089': 2, '528': 2, '589': 2, '083': 2, '017': 2, '529': 2, '069': 1, '584': 1, '545': 1, '514': 1, '098': 1, '509': 1, '073': 1, '561': 1, '543': 1, '571': 1, '505': 1, '103': 1, '530': 1, '062': 1, '576': 1, '028': 1, '023': 1, '040': 1, '016': 1, '590': 1, '533': 1, '575': 1, '541': 1, '565': 1, '532': 1, '501': 1, '527': 1, '008': 1, '544': 1, '504': 1, '012': 1, '063': 1, '065': 1, '032': 1, '079': 1, '573': 1, '011': 1, '082': 1, '042': 1, '088': 1, '524': 1, '577': 1, '569': 1, '027': 1, '064': 1, '102': 1, '092': 1, '024': 1, '525': 1, '035': 1, '095': 1, '060': 1}\n",
      "49\n",
      "{'596': 7, '507': 12, '048': 6, '513': 10, '591': 7, '534': 8, '549': 7, '038': 11, '550': 5, '022': 8, '006': 6, '563': 17, '041': 8, '071': 9, '025': 8, '090': 6, '554': 5, '526': 5, '061': 7, '013': 6, '517': 6, '039': 6, '078': 14, '046': 5, '080': 9, '570': 6, '034': 9, '059': 7, '574': 9, '546': 6, '037': 5, '520': 10, '007': 8, '515': 9, '502': 8, '558': 6, '101': 7, '583': 5, '542': 6, '077': 5, '552': 10, '518': 12, '536': 8, '072': 6, '531': 4, '020': 5, '568': 8, '582': 6, '537': 6}\n",
      "49\n"
     ]
    }
   ],
   "source": [
    "speakers_list = [speakers[idx] for idx in wrong_idx]\n",
    "speaker_dict = {sp: speakers_list.count(sp) for sp in set(speakers_list)}\n",
    "sorted_dict = dict(sorted(speaker_dict.items(), key=lambda item: item[1], reverse=True))\n",
    "print(sorted_dict)\n",
    "always_correct_speakers = [sp for sp in speakers if sp not in speakers_list]\n",
    "print(len(set(always_correct_speakers)))\n",
    "always_correct_speakers_dict = {sp:always_correct_speakers.count(sp) for sp in set(always_correct_speakers)}\n",
    "print(always_correct_speakers_dict)\n",
    "print(len(always_correct_speakers_dict))"
   ]
  },
  {
   "cell_type": "markdown",
   "metadata": {},
   "source": [
    "### Confusion matrix"
   ]
  },
  {
   "cell_type": "code",
   "execution_count": 13,
   "metadata": {},
   "outputs": [
    {
     "data": {
      "text/plain": [
       "<sklearn.metrics._plot.confusion_matrix.ConfusionMatrixDisplay at 0x7fdf767f5950>"
      ]
     },
     "execution_count": 13,
     "metadata": {},
     "output_type": "execute_result"
    },
    {
     "data": {
      "image/png": "[encoded data removed]",
      "text/plain": [
       "<Figure size 640x480 with 2 Axes>"
      ]
     },
     "metadata": {},
     "output_type": "display_data"
    }
   ],
   "source": [
    "from sklearn.metrics import confusion_matrix, ConfusionMatrixDisplay\n",
    "import matplotlib.pyplot as plt\n",
    "\n",
    "cm = confusion_matrix(y_pred=predicted, y_true=ground_truth)\n",
    "disp = ConfusionMatrixDisplay(confusion_matrix=cm)\n",
    "disp.plot()"
   ]
  }
 ],
 "metadata": {
  "kernelspec": {
   "display_name": "teamlab_venv",
   "language": "python",
   "name": "python3"
  },
  "language_info": {
   "codemirror_mode": {
    "name": "ipython",
    "version": 3
   },
   "file_extension": ".py",
   "mimetype": "text/x-python",
   "name": "python",
   "nbconvert_exporter": "python",
   "pygments_lexer": "ipython3",
   "version": "3.11.3"
  },
  "orig_nbformat": 4
 },
 "nbformat": 4,
 "nbformat_minor": 2
}
