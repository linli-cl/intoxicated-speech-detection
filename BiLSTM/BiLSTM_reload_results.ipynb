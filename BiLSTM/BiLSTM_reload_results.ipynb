{
 "cells": [
  {
   "cell_type": "code",
   "execution_count": 24,
   "id": "7bff8ff2",
   "metadata": {},
   "outputs": [],
   "source": [
    "import torch\n",
    "from torch.utils.data import Dataset, DataLoader\n",
    "import json\n",
    "from torch.nn.utils.rnn import pad_sequence,pack_padded_sequence,pad_packed_sequence\n",
    "import torch.nn as nn # for network layers\n",
    "import math\n",
    "from sklearn.metrics import confusion_matrix\n",
    "import sklearn.ensemble\n",
    "import sklearn.metrics\n",
    "from sklearn.model_selection import GridSearchCV\n",
    "from sklearn.model_selection import cross_val_score"
   ]
  },
  {
   "cell_type": "markdown",
   "id": "5cb97b6d",
   "metadata": {},
   "source": [
    "# 1.dataset"
   ]
  },
  {
   "cell_type": "code",
   "execution_count": 2,
   "id": "a1e5cbd7",
   "metadata": {},
   "outputs": [],
   "source": [
    "class myDataset(Dataset):\n",
    "    def __init__(self,file_content):\n",
    "        # create synthetic dataset\n",
    "        labels=[]\n",
    "        self.features=[]\n",
    "        for a in file_content:\n",
    "            labels.append(int(file_content[a]['label']))\n",
    "            feat = file_content[a]['features']\n",
    "            features_temp = []\n",
    "            for b in feat:\n",
    "                maxx=max(feat[b])   #normalization\n",
    "                minn=min(feat[b])\n",
    "                feat_scale=[ (i-minn)/(maxx-minn) for i in feat[b] ]\n",
    "                #print(max(feat_scale),min(feat_scale))\n",
    "                features_temp.append(feat_scale) #25*n\n",
    "            features_temp = torch.transpose(torch.FloatTensor(features_temp), 0, 1)  #n*25\n",
    "            #features_temp=torch.Tensor(features_temp).transpose(0,1)\n",
    "            self.features.append(features_temp)\n",
    "        #self.label=\n",
    "        self.onehot_labels = torch.zeros(len(labels), 2).scatter_(1, torch.tensor(labels).unsqueeze(1), 1)\n",
    "\n",
    "    def __len__(self):\n",
    "        return len(self.onehot_labels)#,len(self.features[0]),len(self.features[0][0])\n",
    "\n",
    "    def __getitem__(self, index):\n",
    "        return self.onehot_labels[index], self.features[index]\n"
   ]
  },
  {
   "cell_type": "code",
   "execution_count": null,
   "id": "b195bb98",
   "metadata": {},
   "outputs": [],
   "source": []
  },
  {
   "cell_type": "markdown",
   "id": "e307b768",
   "metadata": {},
   "source": [
    "# 2.model"
   ]
  },
  {
   "cell_type": "code",
   "execution_count": 3,
   "id": "7bd3d8a7",
   "metadata": {},
   "outputs": [],
   "source": [
    "\n",
    "class MyModel_LSTM(nn.Module):\n",
    "\n",
    "    def __init__(self,input_size=25,output_size=2):\n",
    "        super(MyModel_LSTM, self).__init__()  # father class: torch.nn.Module\n",
    "        drop_prob = 0.5  # dropout\n",
    "        self.lstm = nn.LSTM(         # 56706\n",
    "            input_size=input_size,\n",
    "            hidden_size=64,         # rnn hidden unit\n",
    "            num_layers=2,           # number of rnn layer\n",
    "            batch_first=True,       # input & output will has batch size as 1s dimension. e.g. (batch, time_step, input_size)\n",
    "            dropout=drop_prob,            #wx: x and hidden layer\n",
    "            bidirectional=True\n",
    "            \n",
    "        )\n",
    "        for name, param in self.lstm.named_parameters():\n",
    "            nn.init.uniform_(param, -0.1, 0.1)\n",
    "            \n",
    "        self.fc = nn.Linear(64*2, output_size)  #has ten output num\n",
    "        \n",
    "        #self.sigm = nn.Sigmoid()\n",
    "        self.dropout = nn.Dropout(0.4) #drop_prob\n",
    "\n",
    "    def forward(self, features_datas):\n",
    "        # forward pass (with sigmoid activations) will be called on self()\n",
    "        lstm_out, _ = self.lstm(features_datas, None) # None represents zero initial hidden state\n",
    "        output_padded, output_lengths = pad_packed_sequence(lstm_out, batch_first=True) #, enforce_sorted=False )\n",
    "        \n",
    "        out1, out2 = torch.chunk(output_padded, 2, dim=2)\n",
    "        \n",
    "        out1=out1[range(len(output_lengths)),output_lengths-1]\n",
    "        out2=out2[range(len(output_lengths)),0]\n",
    "        out_cat = torch.cat((out1, out2), 1)\n",
    "        \n",
    "        output= self.dropout(out_cat)\n",
    "        out = self.fc( output )\n",
    "        #sigm_out=self.sigm(out)\n",
    "        return out #sigm_out"
   ]
  },
  {
   "cell_type": "code",
   "execution_count": 4,
   "id": "a6805aaf",
   "metadata": {},
   "outputs": [],
   "source": [
    "def count_parameters(model):\n",
    "    return sum(p.numel() for p in model.parameters() if p.requires_grad)"
   ]
  },
  {
   "cell_type": "code",
   "execution_count": 5,
   "id": "2490112c",
   "metadata": {},
   "outputs": [],
   "source": [
    "def check_val_accuracy(loader, model, criterion):\n",
    "    losses = []\n",
    "    num_correct = 0\n",
    "    num_samples = 0\n",
    "    model.eval()\n",
    "\n",
    "    with torch.no_grad():\n",
    "        for x,y,l in loader:\n",
    "            x=x.to(device)\n",
    "            y=y.to(device)\n",
    "            pack_features = pack_padded_sequence(x, l, batch_first=True, enforce_sorted=False)\n",
    "            scores = model(pack_features)\n",
    "            loss = criterion(scores, y)\n",
    "            losses.append(loss.item())\n",
    "            _, predictions = scores.max(1)  # max out of those 10 digits\n",
    "            #_,y= y.max(1)\n",
    "            num_correct += (predictions == y).sum()\n",
    "            num_samples += predictions.size(0)  # 64 -> batch size\n",
    "\n",
    "\n",
    "    mean_loss = sum(losses) / len(losses)\n",
    "    accuracy = float(num_correct) / float(num_samples) * 100\n",
    "    print(f'Validation loss: {mean_loss:.5f}, accuracy: {accuracy :.2f}' )\n",
    "    model.train()\n",
    "    return mean_loss, accuracy"
   ]
  },
  {
   "cell_type": "markdown",
   "id": "0b6da282",
   "metadata": {},
   "source": [
    "# 3.evaluation"
   ]
  },
  {
   "cell_type": "markdown",
   "id": "2e186ec9",
   "metadata": {},
   "source": [
    "### 1).data"
   ]
  },
  {
   "cell_type": "code",
   "execution_count": 65,
   "id": "1b9120d6",
   "metadata": {},
   "outputs": [
    {
     "name": "stdout",
     "output_type": "stream",
     "text": [
      "val and test data: 1436\n"
     ]
    }
   ],
   "source": [
    "filepath = 'new_lld/lld_test_list.json' \n",
    "with open(filepath, 'r') as f:\n",
    "    file_data = json.load(f)\n",
    "f.close()\n",
    "test_data=myDataset(file_data)\n",
    "print('val and test data:',len(test_data))"
   ]
  },
  {
   "cell_type": "code",
   "execution_count": 9,
   "id": "258a3e41",
   "metadata": {},
   "outputs": [],
   "source": [
    "def check_ratio(label_data):\n",
    "    num0=0\n",
    "    num1=0\n",
    "    for i in label_data:\n",
    "        if i==0:\n",
    "            num0+=1\n",
    "        else:\n",
    "            num1+=1\n",
    "    print('class0:',num0/len(label_data), 'class1:',num1/len(label_data),num0,num1 )"
   ]
  },
  {
   "cell_type": "code",
   "execution_count": 12,
   "id": "51d55cc5",
   "metadata": {},
   "outputs": [
    {
     "name": "stdout",
     "output_type": "stream",
     "text": [
      "<class 'dict'>\n"
     ]
    }
   ],
   "source": [
    "print(type(file_data))"
   ]
  },
  {
   "cell_type": "code",
   "execution_count": 69,
   "id": "d9c5f5cb",
   "metadata": {},
   "outputs": [
    {
     "name": "stdout",
     "output_type": "stream",
     "text": [
      "1436\n"
     ]
    }
   ],
   "source": [
    "num=0\n",
    "thefile=[]\n",
    "for i,j in file_data.items():\n",
    "    thefile.append(i)\n",
    "print(len(thefile))"
   ]
  },
  {
   "cell_type": "code",
   "execution_count": null,
   "id": "3d5816ab",
   "metadata": {},
   "outputs": [],
   "source": []
  },
  {
   "cell_type": "markdown",
   "id": "d133c91f",
   "metadata": {},
   "source": [
    "### 2).code"
   ]
  },
  {
   "cell_type": "code",
   "execution_count": 59,
   "id": "640fe307",
   "metadata": {},
   "outputs": [],
   "source": [
    "# test code:\n",
    "def eval_data(test_loader):\n",
    "    # Loss and optimizer\n",
    "    criterion = nn.CrossEntropyLoss()  # loss function\n",
    "    print(len(test_loader))\n",
    "    len_test = len(test_loader)\n",
    "\n",
    "    losses = []\n",
    "    num_correct = 0\n",
    "    num_samples = 0\n",
    "    prediction_all=[]\n",
    "    targets_all=[]\n",
    "    num=0\n",
    "    thewrong0=[]\n",
    "    thewrong1=[]\n",
    "    for features_datas,labels,lengths in test_loader:\n",
    "        print(len_test)\n",
    "        len_test -= 1\n",
    "        #remove padding\n",
    "        pack_features = pack_padded_sequence(features_datas, lengths, batch_first=True, enforce_sorted=False)\n",
    "\n",
    "        # forward\n",
    "        prediction = model(pack_features.float()) #type <class 'torch.Tensor'>\n",
    "        loss = criterion(prediction, labels)\n",
    "        losses.append(loss.item())\n",
    "        _, predictions_index = prediction.max(1)  # max out of those 10 digits\n",
    "        _, targets_index= labels.max(1)\n",
    "        #targets_index=labels\n",
    "        \n",
    "        print(predictions_index,'\\n',targets_index)\n",
    "        num_correct += (predictions_index == targets_index).sum()\n",
    "        num_samples += predictions_index.size(0)  # 64 -> batch size\n",
    "        print(num_correct,num_samples)\n",
    "        mean_loss = sum(losses) / len(losses)\n",
    "        accuracy = float(num_correct) / float(num_samples) * 100\n",
    "        print(f'Training loss: {mean_loss:.5f}, accuracy: {accuracy:.2f}' )\n",
    "        prediction_all.append(predictions_index)\n",
    "        targets_all.append(targets_index)\n",
    "        \n",
    "    return prediction_all, targets_all,thewrong0,thewrong1\n"
   ]
  },
  {
   "cell_type": "code",
   "execution_count": null,
   "id": "fb15c3b9",
   "metadata": {},
   "outputs": [],
   "source": []
  },
  {
   "cell_type": "markdown",
   "id": "6c6b8acc",
   "metadata": {},
   "source": [
    "### 3).test with bilstm train with original data"
   ]
  },
  {
   "cell_type": "code",
   "execution_count": 15,
   "id": "43929008",
   "metadata": {},
   "outputs": [
    {
     "data": {
      "text/plain": [
       "<All keys matched successfully>"
      ]
     },
     "execution_count": 15,
     "metadata": {},
     "output_type": "execute_result"
    }
   ],
   "source": [
    "model = MyModel_LSTM(41,2)\n",
    "#optimizer = torch.optim.Adam(model.parameters(), lr=learning_rate)\n",
    "\n",
    "check_dict=torch.load('model-bilstm-all.ph',map_location=None) #model-bilstm-all.ph model-oversampling.ph\n",
    "model.load_state_dict(check_dict['model'])"
   ]
  },
  {
   "cell_type": "code",
   "execution_count": 54,
   "id": "bd01842f",
   "metadata": {},
   "outputs": [],
   "source": [
    "batch_size = 359"
   ]
  },
  {
   "cell_type": "code",
   "execution_count": 55,
   "id": "45ace6b0",
   "metadata": {},
   "outputs": [],
   "source": [
    "#print(torch.cuda.is_available())"
   ]
  },
  {
   "cell_type": "code",
   "execution_count": 56,
   "id": "9f9c7d61",
   "metadata": {},
   "outputs": [],
   "source": [
    "def collate(batch):  #to padding the features data\n",
    "    labels=[]\n",
    "    features_all=[]\n",
    "    features_length=[]\n",
    "    for i in batch:\n",
    "        labels.append(i[0]) #(label)\n",
    "        features_all.append(i[1]) #(features)\n",
    "        features_length.append(len(i[1])) #(torch.LongTensor(len(features)))\n",
    "    pad_features = pad_sequence(features_all, batch_first=True, padding_value=0)\n",
    "    batch_of_labels=torch.stack(labels)\n",
    "    batch_of_lengths=torch.Tensor(features_length)\n",
    "    return pad_features,batch_of_labels,batch_of_lengths"
   ]
  },
  {
   "cell_type": "code",
   "execution_count": 57,
   "id": "d4ede6c6",
   "metadata": {},
   "outputs": [],
   "source": [
    "test_loader= DataLoader(dataset=test_data, batch_size=batch_size, shuffle=False , drop_last=True, collate_fn=collate)"
   ]
  },
  {
   "cell_type": "markdown",
   "id": "d169651e",
   "metadata": {},
   "source": [
    "#### accuracy"
   ]
  },
  {
   "cell_type": "code",
   "execution_count": 60,
   "id": "d2ede5d2",
   "metadata": {},
   "outputs": [
    {
     "name": "stdout",
     "output_type": "stream",
     "text": [
      "4\n",
      "4\n",
      "tensor([0, 0, 1, 0, 0, 0, 0, 0, 0, 1, 1, 1, 1, 0, 0, 0, 0, 0, 1, 1, 1, 0, 0, 0,\n",
      "        1, 0, 1, 0, 1, 1, 0, 0, 1, 1, 0, 0, 0, 1, 0, 1, 0, 1, 0, 0, 1, 0, 1, 0,\n",
      "        0, 1, 0, 0, 0, 0, 0, 1, 0, 0, 0, 0, 0, 0, 0, 0, 1, 1, 0, 0, 1, 1, 0, 0,\n",
      "        1, 0, 0, 1, 0, 0, 0, 0, 0, 0, 0, 0, 0, 1, 0, 1, 1, 0, 0, 0, 1, 0, 0, 0,\n",
      "        0, 1, 0, 0, 0, 0, 0, 0, 0, 1, 1, 0, 1, 0, 1, 0, 0, 1, 0, 0, 0, 0, 0, 0,\n",
      "        0, 0, 1, 1, 1, 0, 0, 1, 0, 0, 0, 0, 1, 1, 0, 1, 0, 1, 0, 0, 0, 1, 0, 1,\n",
      "        1, 0, 0, 0, 0, 0, 0, 0, 1, 1, 1, 0, 1, 0, 1, 0, 0, 0, 1, 1, 1, 0, 0, 0,\n",
      "        0, 0, 1, 1, 0, 0, 0, 0, 0, 0, 0, 0, 1, 0, 0, 0, 0, 0, 0, 1, 0, 0, 0, 0,\n",
      "        0, 1, 0, 1, 0, 0, 0, 0, 0, 1, 0, 0, 1, 1, 0, 0, 0, 0, 0, 0, 0, 0, 0, 0,\n",
      "        0, 0, 0, 0, 0, 1, 0, 0, 1, 1, 1, 0, 0, 0, 0, 0, 0, 0, 1, 0, 0, 0, 0, 0,\n",
      "        0, 1, 1, 0, 0, 0, 0, 0, 0, 0, 1, 1, 1, 1, 1, 0, 0, 0, 1, 1, 0, 1, 1, 0,\n",
      "        1, 1, 0, 1, 0, 0, 0, 1, 0, 0, 0, 0, 1, 0, 0, 0, 0, 0, 1, 1, 1, 0, 0, 1,\n",
      "        1, 1, 0, 1, 0, 0, 0, 1, 0, 0, 0, 0, 1, 1, 1, 0, 0, 1, 0, 0, 0, 1, 0, 1,\n",
      "        0, 0, 0, 0, 1, 0, 0, 1, 1, 1, 0, 0, 0, 1, 0, 1, 0, 1, 0, 1, 0, 0, 0, 0,\n",
      "        0, 1, 0, 0, 0, 0, 0, 0, 0, 1, 1, 0, 0, 0, 0, 1, 0, 0, 0, 0, 1, 1, 1]) \n",
      " tensor([1, 1, 1, 0, 0, 0, 0, 0, 1, 1, 1, 1, 0, 0, 0, 0, 0, 0, 1, 1, 1, 1, 1, 1,\n",
      "        1, 1, 0, 0, 0, 0, 0, 0, 0, 0, 0, 0, 0, 1, 0, 0, 0, 0, 0, 0, 0, 0, 0, 0,\n",
      "        0, 1, 1, 0, 0, 0, 0, 0, 1, 1, 1, 1, 0, 0, 0, 0, 1, 1, 1, 1, 1, 1, 1, 0,\n",
      "        0, 0, 0, 1, 1, 0, 0, 0, 0, 0, 0, 0, 1, 1, 1, 0, 0, 0, 0, 0, 1, 0, 0, 0,\n",
      "        1, 1, 0, 0, 0, 0, 0, 0, 1, 1, 1, 0, 0, 0, 0, 0, 0, 1, 1, 0, 0, 0, 0, 0,\n",
      "        0, 0, 1, 1, 1, 0, 0, 0, 0, 0, 0, 0, 1, 0, 0, 0, 0, 0, 0, 0, 0, 1, 1, 1,\n",
      "        1, 0, 0, 0, 0, 0, 0, 0, 0, 1, 1, 0, 0, 0, 0, 0, 0, 0, 1, 1, 1, 0, 0, 0,\n",
      "        0, 0, 1, 1, 1, 0, 0, 0, 0, 0, 1, 0, 0, 0, 0, 0, 1, 1, 1, 1, 0, 0, 0, 0,\n",
      "        0, 1, 1, 1, 0, 0, 0, 0, 0, 0, 0, 0, 1, 1, 1, 0, 0, 0, 0, 1, 0, 0, 0, 0,\n",
      "        0, 0, 0, 0, 0, 0, 0, 1, 0, 0, 0, 0, 0, 0, 0, 0, 0, 0, 0, 1, 1, 0, 0, 0,\n",
      "        0, 1, 1, 1, 0, 0, 0, 0, 0, 0, 0, 1, 1, 1, 1, 0, 0, 0, 0, 0, 0, 0, 0, 0,\n",
      "        1, 1, 1, 1, 0, 0, 0, 0, 0, 0, 0, 0, 1, 1, 0, 0, 0, 0, 1, 1, 1, 1, 0, 0,\n",
      "        0, 0, 0, 0, 1, 1, 0, 0, 0, 0, 0, 0, 1, 1, 1, 0, 0, 0, 0, 0, 0, 0, 0, 1,\n",
      "        0, 0, 0, 0, 1, 1, 1, 1, 1, 1, 0, 0, 0, 0, 1, 1, 1, 1, 0, 0, 0, 0, 0, 1,\n",
      "        1, 0, 0, 0, 0, 0, 0, 0, 0, 1, 1, 1, 0, 0, 0, 0, 0, 0, 0, 0, 0, 1, 1])\n",
      "tensor(265) 359\n",
      "Training loss: 0.56856, accuracy: 73.82\n",
      "3\n",
      "tensor([1, 0, 1, 0, 0, 0, 1, 0, 0, 0, 0, 0, 0, 0, 0, 1, 1, 0, 0, 0, 0, 0, 0, 0,\n",
      "        0, 1, 1, 0, 1, 0, 0, 0, 0, 0, 0, 0, 0, 0, 0, 1, 0, 1, 0, 0, 0, 1, 0, 0,\n",
      "        0, 0, 0, 0, 0, 0, 0, 0, 0, 0, 0, 0, 0, 0, 1, 0, 0, 0, 0, 0, 0, 0, 0, 0,\n",
      "        0, 0, 0, 1, 0, 0, 0, 0, 1, 0, 1, 1, 0, 1, 0, 1, 0, 0, 0, 0, 0, 0, 0, 0,\n",
      "        1, 0, 0, 0, 0, 0, 1, 0, 1, 0, 0, 0, 0, 0, 0, 1, 0, 0, 1, 0, 0, 0, 0, 0,\n",
      "        0, 0, 0, 0, 0, 0, 1, 0, 0, 0, 1, 0, 1, 0, 0, 1, 1, 0, 0, 0, 0, 0, 0, 1,\n",
      "        0, 0, 0, 0, 0, 1, 1, 0, 0, 0, 0, 0, 0, 0, 0, 0, 0, 0, 1, 0, 1, 1, 0, 0,\n",
      "        0, 0, 0, 0, 0, 0, 0, 0, 0, 0, 0, 0, 0, 0, 0, 0, 0, 0, 0, 1, 0, 0, 0, 0,\n",
      "        0, 1, 1, 1, 1, 1, 0, 0, 0, 0, 0, 0, 0, 1, 0, 0, 0, 0, 0, 0, 1, 0, 1, 1,\n",
      "        1, 0, 0, 0, 1, 1, 1, 0, 0, 1, 1, 0, 0, 0, 0, 0, 0, 1, 0, 0, 1, 0, 0, 1,\n",
      "        0, 0, 0, 0, 0, 0, 0, 0, 0, 0, 0, 0, 1, 0, 0, 0, 0, 0, 0, 0, 0, 0, 0, 0,\n",
      "        0, 0, 1, 0, 0, 0, 1, 0, 1, 0, 1, 1, 0, 1, 1, 0, 1, 1, 0, 1, 1, 0, 0, 0,\n",
      "        0, 0, 0, 0, 0, 0, 1, 1, 0, 0, 0, 0, 1, 0, 1, 0, 0, 0, 0, 1, 1, 0, 0, 0,\n",
      "        0, 0, 0, 0, 1, 0, 0, 0, 0, 0, 0, 0, 0, 0, 1, 0, 0, 0, 0, 0, 0, 1, 0, 0,\n",
      "        0, 0, 1, 0, 0, 1, 0, 1, 1, 0, 1, 0, 0, 0, 1, 0, 1, 1, 0, 0, 0, 0, 0]) \n",
      " tensor([1, 0, 0, 0, 0, 0, 1, 1, 1, 1, 1, 0, 0, 0, 0, 0, 0, 0, 0, 1, 1, 1, 1, 0,\n",
      "        0, 0, 1, 1, 1, 0, 0, 0, 0, 0, 0, 0, 0, 0, 0, 1, 1, 1, 0, 0, 0, 0, 0, 0,\n",
      "        0, 1, 1, 0, 0, 0, 0, 0, 0, 0, 1, 1, 1, 1, 1, 0, 0, 0, 0, 0, 1, 1, 0, 0,\n",
      "        0, 0, 1, 1, 1, 0, 0, 0, 0, 0, 1, 1, 1, 1, 0, 0, 0, 0, 0, 0, 1, 1, 1, 1,\n",
      "        1, 1, 0, 0, 0, 0, 1, 1, 1, 0, 0, 0, 0, 0, 0, 0, 0, 1, 1, 1, 0, 0, 0, 0,\n",
      "        1, 1, 1, 0, 0, 0, 0, 0, 0, 0, 1, 1, 1, 0, 0, 0, 0, 0, 0, 0, 1, 1, 1, 1,\n",
      "        0, 0, 0, 0, 1, 1, 1, 0, 0, 0, 0, 0, 0, 1, 0, 0, 0, 0, 0, 0, 1, 1, 0, 0,\n",
      "        0, 0, 0, 0, 0, 0, 0, 0, 1, 0, 0, 0, 0, 0, 1, 1, 0, 0, 0, 0, 0, 0, 0, 0,\n",
      "        0, 1, 1, 1, 1, 1, 0, 0, 0, 0, 1, 0, 0, 0, 0, 0, 0, 0, 0, 1, 1, 1, 0, 0,\n",
      "        0, 0, 0, 0, 1, 0, 0, 0, 1, 1, 1, 1, 0, 0, 0, 0, 0, 1, 1, 1, 1, 0, 0, 0,\n",
      "        0, 1, 1, 0, 0, 0, 0, 0, 0, 0, 0, 0, 0, 1, 0, 0, 0, 0, 0, 1, 1, 1, 1, 1,\n",
      "        0, 0, 0, 0, 0, 0, 0, 1, 1, 1, 1, 1, 0, 0, 0, 0, 0, 0, 1, 1, 1, 0, 0, 0,\n",
      "        1, 1, 1, 0, 0, 0, 0, 1, 1, 1, 1, 1, 1, 1, 1, 0, 0, 0, 0, 1, 1, 0, 0, 0,\n",
      "        0, 0, 0, 1, 1, 1, 0, 0, 0, 0, 0, 0, 0, 1, 1, 0, 0, 0, 0, 0, 1, 1, 1, 1,\n",
      "        0, 0, 0, 0, 0, 1, 1, 1, 1, 1, 1, 0, 0, 0, 0, 0, 0, 0, 1, 1, 1, 1, 0])\n",
      "tensor(513) 718\n",
      "Training loss: 0.59409, accuracy: 71.45\n",
      "2\n",
      "tensor([1, 1, 1, 0, 0, 0, 0, 0, 0, 0, 0, 0, 0, 0, 0, 0, 0, 1, 0, 0, 0, 0, 0, 0,\n",
      "        0, 0, 0, 1, 0, 0, 0, 0, 0, 1, 0, 1, 0, 0, 1, 1, 0, 0, 0, 0, 0, 0, 0, 1,\n",
      "        1, 1, 1, 1, 0, 0, 1, 0, 0, 0, 0, 0, 0, 0, 0, 0, 1, 1, 0, 0, 0, 0, 1, 1,\n",
      "        1, 0, 0, 0, 0, 1, 1, 0, 1, 1, 0, 1, 1, 0, 0, 0, 1, 0, 1, 1, 0, 0, 0, 0,\n",
      "        0, 0, 0, 0, 1, 0, 0, 0, 0, 0, 0, 0, 1, 0, 1, 0, 1, 1, 0, 1, 1, 1, 0, 0,\n",
      "        0, 0, 0, 0, 0, 0, 1, 0, 1, 0, 0, 0, 0, 0, 0, 0, 0, 0, 0, 0, 0, 0, 0, 0,\n",
      "        0, 0, 0, 1, 0, 0, 0, 0, 0, 1, 0, 1, 0, 0, 0, 0, 1, 0, 0, 0, 0, 0, 0, 1,\n",
      "        0, 0, 0, 0, 1, 1, 0, 0, 0, 0, 0, 0, 1, 1, 1, 0, 0, 1, 0, 0, 0, 0, 0, 0,\n",
      "        0, 0, 1, 1, 1, 1, 0, 1, 1, 1, 0, 0, 0, 0, 0, 0, 0, 0, 0, 0, 0, 1, 1, 0,\n",
      "        0, 0, 0, 0, 0, 0, 1, 1, 1, 1, 0, 0, 0, 0, 1, 0, 0, 1, 0, 0, 0, 0, 1, 0,\n",
      "        0, 0, 0, 0, 1, 0, 0, 0, 1, 1, 0, 0, 0, 0, 0, 0, 1, 0, 0, 0, 1, 0, 1, 1,\n",
      "        0, 0, 0, 0, 0, 0, 0, 0, 0, 1, 0, 0, 0, 0, 1, 1, 0, 0, 0, 0, 0, 0, 0, 0,\n",
      "        0, 1, 0, 1, 0, 0, 1, 0, 1, 0, 0, 0, 0, 0, 0, 1, 1, 1, 1, 0, 0, 0, 1, 1,\n",
      "        1, 0, 0, 1, 1, 0, 0, 0, 0, 0, 0, 0, 0, 0, 1, 0, 0, 0, 0, 1, 0, 0, 0, 0,\n",
      "        0, 0, 0, 0, 1, 1, 1, 1, 0, 0, 0, 0, 0, 0, 0, 0, 0, 0, 0, 1, 1, 0, 0]) \n",
      " tensor([0, 0, 0, 0, 0, 1, 1, 0, 0, 0, 0, 0, 0, 0, 0, 0, 1, 0, 0, 0, 1, 1, 0, 0,\n",
      "        0, 0, 0, 1, 0, 0, 0, 0, 0, 1, 0, 0, 0, 0, 1, 1, 1, 0, 0, 0, 0, 0, 1, 1,\n",
      "        1, 1, 1, 0, 0, 0, 0, 0, 1, 1, 1, 1, 1, 0, 0, 0, 0, 0, 0, 0, 0, 0, 0, 0,\n",
      "        1, 1, 1, 0, 0, 1, 1, 1, 1, 1, 0, 0, 0, 0, 0, 1, 1, 1, 1, 1, 0, 0, 0, 0,\n",
      "        0, 0, 1, 1, 1, 1, 1, 0, 0, 0, 0, 0, 1, 1, 1, 0, 0, 1, 1, 1, 1, 1, 0, 0,\n",
      "        0, 0, 0, 0, 1, 1, 1, 1, 1, 0, 0, 0, 0, 0, 0, 0, 0, 0, 0, 0, 1, 0, 0, 0,\n",
      "        0, 0, 1, 1, 1, 1, 1, 0, 0, 0, 0, 0, 1, 0, 0, 0, 1, 1, 0, 0, 0, 0, 0, 0,\n",
      "        0, 0, 0, 0, 1, 1, 0, 0, 0, 0, 0, 0, 1, 1, 1, 1, 1, 1, 0, 0, 0, 0, 0, 0,\n",
      "        0, 0, 1, 1, 1, 1, 1, 1, 1, 1, 1, 0, 0, 0, 0, 0, 0, 0, 0, 0, 0, 1, 1, 0,\n",
      "        0, 0, 0, 0, 0, 0, 1, 1, 1, 1, 0, 0, 0, 0, 1, 1, 0, 0, 0, 0, 0, 0, 1, 0,\n",
      "        0, 0, 0, 0, 0, 0, 0, 0, 1, 1, 1, 0, 0, 0, 0, 0, 1, 1, 1, 1, 1, 1, 1, 1,\n",
      "        0, 0, 0, 0, 0, 0, 0, 0, 0, 1, 0, 0, 0, 0, 1, 1, 1, 1, 1, 0, 0, 0, 0, 0,\n",
      "        0, 0, 0, 1, 1, 1, 1, 1, 1, 0, 0, 0, 0, 0, 0, 1, 1, 1, 1, 0, 0, 0, 1, 1,\n",
      "        1, 1, 1, 1, 1, 0, 0, 0, 0, 0, 0, 1, 1, 1, 1, 0, 0, 0, 1, 1, 1, 1, 0, 0,\n",
      "        0, 0, 0, 0, 0, 1, 1, 1, 1, 0, 1, 1, 1, 0, 0, 0, 0, 0, 0, 0, 0, 0, 0])\n",
      "tensor(788) 1077\n",
      "Training loss: 0.58447, accuracy: 73.17\n",
      "1\n",
      "tensor([0, 0, 1, 0, 0, 0, 0, 0, 0, 0, 0, 1, 0, 0, 0, 0, 0, 0, 0, 0, 0, 1, 0, 0,\n",
      "        0, 0, 0, 0, 0, 0, 0, 0, 0, 0, 1, 0, 0, 0, 0, 0, 0, 0, 0, 0, 0, 0, 0, 1,\n",
      "        1, 0, 1, 0, 0, 0, 0, 0, 0, 0, 1, 1, 0, 0, 0, 0, 0, 0, 0, 0, 1, 1, 0, 0,\n",
      "        0, 0, 0, 0, 0, 0, 0, 0, 0, 0, 1, 0, 0, 0, 0, 0, 0, 0, 0, 0, 0, 0, 0, 0,\n",
      "        0, 1, 0, 0, 0, 1, 1, 1, 0, 0, 0, 0, 0, 0, 0, 0, 0, 0, 0, 1, 0, 1, 1, 0,\n",
      "        1, 0, 0, 0, 0, 0, 0, 0, 0, 1, 0, 0, 0, 0, 0, 0, 0, 1, 0, 0, 0, 0, 0, 0,\n",
      "        0, 0, 1, 0, 0, 0, 0, 0, 1, 0, 0, 0, 0, 0, 0, 1, 0, 0, 0, 0, 0, 0, 0, 0,\n",
      "        0, 0, 0, 1, 1, 0, 1, 1, 0, 0, 0, 0, 0, 0, 1, 0, 0, 0, 0, 0, 0, 1, 1, 1,\n",
      "        0, 0, 0, 1, 0, 1, 1, 0, 1, 1, 0, 0, 0, 1, 0, 0, 0, 0, 0, 0, 0, 0, 0, 0,\n",
      "        0, 0, 0, 0, 0, 1, 0, 1, 0, 1, 0, 0, 0, 0, 0, 1, 1, 1, 0, 0, 0, 0, 0, 0,\n",
      "        0, 0, 0, 0, 0, 0, 1, 0, 0, 1, 0, 0, 0, 1, 0, 0, 0, 1, 0, 1, 1, 1, 0, 0,\n",
      "        1, 0, 0, 0, 1, 1, 0, 1, 0, 0, 0, 1, 0, 0, 1, 1, 0, 1, 0, 1, 0, 0, 0, 1,\n",
      "        0, 1, 1, 0, 0, 0, 1, 0, 0, 0, 0, 0, 0, 0, 1, 0, 0, 0, 0, 0, 1, 0, 0, 0,\n",
      "        0, 0, 0, 0, 0, 1, 1, 1, 0, 0, 0, 0, 0, 0, 0, 0, 0, 1, 1, 0, 0, 0, 0, 1,\n",
      "        0, 0, 1, 0, 0, 0, 0, 0, 0, 0, 0, 0, 0, 0, 0, 0, 0, 0, 1, 0, 0, 0, 0]) \n",
      " tensor([0, 0, 0, 1, 1, 1, 1, 1, 1, 1, 0, 0, 0, 0, 0, 0, 1, 1, 1, 0, 0, 0, 0, 1,\n",
      "        1, 0, 0, 0, 0, 0, 0, 0, 0, 0, 1, 0, 0, 0, 0, 1, 0, 0, 0, 0, 0, 0, 0, 1,\n",
      "        1, 0, 0, 0, 1, 1, 1, 0, 0, 0, 1, 1, 1, 1, 0, 0, 1, 0, 0, 1, 1, 1, 0, 0,\n",
      "        0, 0, 0, 0, 0, 1, 1, 1, 0, 0, 1, 1, 1, 1, 0, 0, 0, 0, 0, 0, 0, 0, 0, 1,\n",
      "        1, 1, 0, 0, 0, 0, 0, 1, 1, 0, 0, 0, 0, 0, 0, 0, 1, 1, 0, 0, 0, 1, 1, 1,\n",
      "        0, 0, 0, 0, 0, 1, 1, 1, 0, 0, 0, 0, 0, 0, 0, 0, 0, 1, 1, 1, 1, 0, 0, 0,\n",
      "        1, 0, 0, 0, 0, 0, 0, 1, 0, 0, 0, 0, 0, 0, 0, 1, 1, 1, 1, 0, 0, 0, 0, 0,\n",
      "        0, 0, 0, 0, 0, 0, 0, 1, 1, 0, 0, 0, 0, 0, 1, 1, 1, 0, 0, 0, 1, 1, 1, 1,\n",
      "        0, 0, 0, 0, 0, 1, 1, 1, 1, 1, 0, 0, 0, 0, 1, 0, 0, 0, 0, 0, 0, 0, 1, 1,\n",
      "        1, 1, 1, 0, 0, 0, 0, 0, 0, 0, 0, 0, 0, 0, 0, 1, 1, 1, 1, 0, 0, 0, 0, 0,\n",
      "        0, 1, 1, 1, 0, 0, 0, 0, 0, 1, 1, 1, 1, 0, 0, 0, 0, 1, 1, 1, 0, 0, 0, 0,\n",
      "        0, 1, 1, 1, 0, 0, 0, 1, 0, 0, 0, 1, 1, 0, 0, 0, 0, 0, 0, 0, 0, 1, 1, 1,\n",
      "        1, 0, 0, 0, 0, 0, 1, 1, 1, 1, 0, 0, 0, 0, 0, 0, 0, 1, 1, 0, 0, 0, 0, 0,\n",
      "        0, 0, 0, 0, 0, 1, 1, 1, 1, 1, 0, 0, 0, 0, 0, 0, 0, 1, 1, 0, 0, 0, 0, 0,\n",
      "        1, 0, 0, 0, 0, 0, 0, 0, 0, 1, 1, 0, 0, 1, 1, 1, 0, 0, 0, 0, 0, 0, 0])\n",
      "tensor(1028) 1436\n",
      "Training loss: 0.59829, accuracy: 71.59\n"
     ]
    }
   ],
   "source": [
    "prediction_all_test2, targets_all_test2,thewrong0,thewrong1=eval_data(test_loader) "
   ]
  },
  {
   "cell_type": "markdown",
   "id": "829d57ef",
   "metadata": {},
   "source": [
    "#### confusion matrix"
   ]
  },
  {
   "cell_type": "code",
   "execution_count": 35,
   "id": "8dbad1e5",
   "metadata": {},
   "outputs": [
    {
     "data": {
      "image/png": "[encoded data removed]",
      "text/plain": [
       "<Figure size 640x480 with 2 Axes>"
      ]
     },
     "metadata": {},
     "output_type": "display_data"
    }
   ],
   "source": [
    "y_true=[]\n",
    "for i in targets_all_test:\n",
    "    for j in i:\n",
    "        #print(int(j),type(int(j)))\n",
    "        y_true.append(j)\n",
    "        \n",
    "y_pred=[]\n",
    "for i in prediction_all_test:\n",
    "    for j in i:\n",
    "        #print(int(j),type(int(j)))\n",
    "        y_pred.append(j)\n",
    "        \n",
    "confusion_mat = confusion_matrix(y_true, y_pred)\n",
    "plot_confusion_matrix(confusion_mat)"
   ]
  },
  {
   "cell_type": "code",
   "execution_count": 52,
   "id": "76409c67",
   "metadata": {},
   "outputs": [
    {
     "name": "stdout",
     "output_type": "stream",
     "text": [
      "22\n",
      "22\n"
     ]
    }
   ],
   "source": [
    "print(len(targets_all_test))\n",
    "print(len(prediction_all_test))"
   ]
  },
  {
   "cell_type": "code",
   "execution_count": 61,
   "id": "995e444c",
   "metadata": {},
   "outputs": [],
   "source": [
    "truey=[]\n",
    "predy=[]\n",
    "for i in targets_all_test2:\n",
    "    for j in i:\n",
    "        #print(int(j),type(int(j)))\n",
    "        truey.append(int(j))\n",
    "for i in prediction_all_test2:\n",
    "    for j in i:\n",
    "        #print(int(j),type(int(j)))\n",
    "        predy.append(int(j))"
   ]
  },
  {
   "cell_type": "code",
   "execution_count": 62,
   "id": "4de7bec7",
   "metadata": {},
   "outputs": [
    {
     "name": "stdout",
     "output_type": "stream",
     "text": [
      "Precision: [0.74882849 0.62059621]\n",
      "Recall: [0.85090522 0.46076459]\n",
      "F1-score: [0.79661017 0.52886836]\n"
     ]
    }
   ],
   "source": [
    "prec, rec, f1, _ = sklearn.metrics.precision_recall_fscore_support(\n",
    "   truey,predy, average=None \n",
    ")\n",
    "print(\"Precision:\", prec)\n",
    "print(\"Recall:\", rec)\n",
    "print(\"F1-score:\", f1)"
   ]
  },
  {
   "cell_type": "markdown",
   "id": "89fa77bc",
   "metadata": {},
   "source": [
    "#### styles of speech analysis"
   ]
  },
  {
   "cell_type": "code",
   "execution_count": 64,
   "id": "a6862fc9",
   "metadata": {},
   "outputs": [
    {
     "name": "stdout",
     "output_type": "stream",
     "text": [
      "1436 1436\n",
      "[12, 26, 28, 29, 32, 33, 39, 41, 44, 46, 55, 72, 87, 88, 108, 110, 127, 133, 135, 137, 152, 156, 158, 180, 201, 221, 224, 225, 226, 234, 250, 258, 259, 261, 262, 271, 287, 288, 289, 291, 295, 305, 309, 325, 331, 337, 351, 356, 361, 374, 375, 384, 404, 439, 446, 470, 485, 494, 495, 521, 546, 564, 573, 574, 575, 580, 581, 598, 611, 625, 629, 636, 637, 639, 640, 653, 697, 709, 711, 712, 718, 719, 720, 735, 753, 769, 772, 782, 783, 788, 789, 801, 802, 830, 871, 873, 885, 951, 962, 1007, 1058, 1073, 1074, 1079, 1088, 1098, 1127, 1178, 1179, 1192, 1197, 1206, 1223, 1229, 1248, 1249, 1251, 1272, 1282, 1298, 1300, 1302, 1323, 1330, 1337, 1338, 1341, 1345, 1346, 1355, 1356, 1358, 1360, 1366, 1367, 1379, 1385, 1412, 1415, 1431]\n",
      "[0, 1, 8, 21, 22, 23, 25, 50, 56, 57, 58, 59, 66, 67, 70, 76, 84, 86, 96, 104, 114, 142, 172, 178, 184, 185, 186, 194, 206, 211, 223, 235, 236, 243, 266, 277, 285, 292, 293, 317, 318, 326, 328, 335, 336, 347, 366, 367, 368, 369, 378, 379, 380, 381, 386, 399, 408, 409, 417, 418, 419, 420, 427, 428, 433, 435, 443, 451, 452, 453, 454, 456, 462, 472, 474, 479, 480, 481, 490, 499, 500, 501, 507, 516, 535, 541, 542, 561, 570, 572, 583, 586, 593, 594, 600, 601, 612, 618, 619, 620, 621, 622, 630, 632, 641, 647, 648, 649, 655, 656, 657, 658, 660, 674, 676, 684, 691, 693, 694, 701, 704, 713, 714, 715, 716, 723, 724, 734, 738, 739, 758, 764, 774, 775, 776, 777, 778, 791, 792, 797, 805, 807, 816, 817, 819, 820, 827, 832, 842, 843, 845, 858, 864, 866, 867, 868, 874, 879, 901, 902, 916, 920, 949, 968, 975, 976, 977, 979, 998, 999, 1000, 1010, 1011, 1013, 1031, 1032, 1041, 1042, 1043, 1048, 1050, 1051, 1062, 1064, 1065, 1066, 1080, 1081, 1082, 1083, 1084, 1085, 1086, 1093, 1094, 1095, 1100, 1101, 1116, 1129, 1130, 1131, 1137, 1138, 1141, 1144, 1154, 1155, 1156, 1160, 1161, 1162, 1172, 1173, 1181, 1189, 1190, 1196, 1202, 1203, 1204, 1215, 1216, 1217, 1221, 1228, 1237, 1238, 1239, 1253, 1260, 1261, 1265, 1276, 1283, 1291, 1292, 1293, 1294, 1295, 1311, 1318, 1319, 1320, 1327, 1328, 1329, 1335, 1342, 1343, 1344, 1353, 1362, 1363, 1365, 1372, 1373, 1374, 1382, 1383, 1397, 1398, 1413, 1422, 1423, 1426, 1427, 1428]\n"
     ]
    }
   ],
   "source": [
    "thewrong0=[]\n",
    "thewrong1=[]\n",
    "print(len(truey),len(predy))\n",
    "for i in range(len(truey)):\n",
    "    if truey[i]!=predy[i]:\n",
    "        if truey[i]==0:\n",
    "            thewrong0.append(i)\n",
    "        else:\n",
    "            thewrong1.append(i)\n",
    "print(thewrong0)\n",
    "print(thewrong1)    "
   ]
  },
  {
   "cell_type": "code",
   "execution_count": 101,
   "id": "1859f836",
   "metadata": {},
   "outputs": [],
   "source": [
    "wrongfile0=[]\n",
    "for i in thewrong0:\n",
    "    wrongfile0.append(thefile[i])\n",
    "\n",
    "wrongfile1=[]\n",
    "for j in thewrong1:\n",
    "    wrongfile1.append(thefile[j])"
   ]
  },
  {
   "cell_type": "code",
   "execution_count": 82,
   "id": "56181e41",
   "metadata": {},
   "outputs": [],
   "source": [
    "read_a = ['001','003', '004', '006', '007', '008','009', '011', '012', '013', '015', '016', '017', '019','020','021','023','024','029','030'] #read numbers, address, words, sentences, credit card numbers, auto numbers\n",
    "spontaneous_a = ['002', '014', '005','010','018'] \n",
    "command_control_a = ['022','025','026','027','028'] \n",
    "\n",
    "read_na = ['001','003','004','006','007','008','009','011','012','013','015', '016', '017', '019','020','021','023','024','026','027','028', '031','032','033','035','036','037','039','040','041','044','050','051','052','056','057','058','059','060','029']\n",
    "spontaneous_na = ['002','014','022','034', '005', '010', '018','025','030','038'] \n",
    "command_control_na = ['042','043','045','046','047','048','049','053','054','055']"
   ]
  },
  {
   "cell_type": "code",
   "execution_count": 114,
   "id": "b0a66e37",
   "metadata": {},
   "outputs": [],
   "source": [
    "def print3classes(wrongfile0,wrongfile1):\n",
    "    lrna=0\n",
    "    lsna=0\n",
    "    lcna=0\n",
    "    lra=0\n",
    "    lsa=0\n",
    "    lca=0\n",
    "    lennum0=0\n",
    "    lennum1=0\n",
    "    for i in thefile: #print(i[3],i[7:10])\n",
    "        if i[3]=='2' or i[3]=='4': #na\n",
    "            if i[7:10] in spontaneous_na :\n",
    "                lsna+=1\n",
    "            elif i[7:10] in command_control_na:\n",
    "                lcna+=1\n",
    "            elif i[7:10] in read_na:\n",
    "                lrna+=1\n",
    "            else:\n",
    "                print(i)\n",
    "            lennum0+=1\n",
    "        if i[3]=='1' or i[3]=='3': #a\n",
    "            if i[7:10] in spontaneous_a :\n",
    "                lsa+=1\n",
    "            elif i[7:10] in command_control_a:\n",
    "                lca+=1\n",
    "            elif i[7:10] in read_a:\n",
    "                lra+=1\n",
    "            else:\n",
    "                print(i)\n",
    "            lennum1+=1\n",
    "\n",
    "    print(lrna,lsna,lcna)\n",
    "    print(lrna/lennum0,lsna/lennum0,lcna/lennum0)\n",
    "    print(lra,lsa,lca)\n",
    "    print(lra/lennum1,lsa/lennum1,lca/lennum1)\n",
    "    print(lennum0,lennum1)\n",
    "    print()\n",
    "    \n",
    "    print(len(wrongfile0))\n",
    "    lennum=len(wrongfile0)\n",
    "    rna=0\n",
    "    sna=0\n",
    "    cna=0\n",
    "    for i in wrongfile0: #sober\n",
    "        #print(i[3],i[7:10])\n",
    "        if i[7:10] in spontaneous_na :\n",
    "            sna+=1\n",
    "        elif i[7:10] in command_control_na:\n",
    "            cna+=1\n",
    "        elif i[7:10] in read_na:\n",
    "            rna+=1\n",
    "        else:\n",
    "            print(i)\n",
    "    print(rna,sna,cna)\n",
    "    print(rna/lennum,sna/lennum,cna/lennum)\n",
    "    print(1-rna/lrna,1-sna/lsna,1-cna/lcna)\n",
    "\n",
    "    print(len(wrongfile1))\n",
    "    lennum=len(wrongfile1)\n",
    "    ra=0\n",
    "    sa=0\n",
    "    ca=0\n",
    "    for i in wrongfile1: #sober\n",
    "        if i[7:10] in spontaneous_a :\n",
    "            sa+=1\n",
    "        elif i[7:10] in command_control_a:\n",
    "            ca+=1\n",
    "        elif i[7:10] in read_a:\n",
    "            ra+=1\n",
    "        else:\n",
    "            print(i)\n",
    "    print(ra,sa,ca)\n",
    "    print(ra/lennum,sa/lennum,ca/lennum)\n",
    "    print(1-ra/lra,1-sa/lsa,1-ca/lca)\n",
    "    print()\n",
    "    \n",
    "    print('total')\n",
    "    print(1-((rna+ra)/(lrna+lra)),1-((sna+sa)/(lsna+lsa)),1-((cna+ca)/(lcna+lca)))\n",
    "    print((lrna+lra),(lsna+lsa),(lcna+lca))"
   ]
  },
  {
   "cell_type": "code",
   "execution_count": 115,
   "id": "d740d823",
   "metadata": {},
   "outputs": [
    {
     "name": "stdout",
     "output_type": "stream",
     "text": [
      "635 145 159\n",
      "0.6762513312034079 0.154419595314164 0.16932907348242812\n",
      "322 82 93\n",
      "0.647887323943662 0.16498993963782696 0.18712273641851107\n",
      "939 497\n",
      "\n",
      "140\n",
      "101 20 19\n",
      "0.7214285714285714 0.14285714285714285 0.1357142857142857\n",
      "0.8409448818897638 0.8620689655172413 0.8805031446540881\n",
      "268\n",
      "166 49 53\n",
      "0.6194029850746269 0.1828358208955224 0.19776119402985073\n",
      "0.484472049689441 0.4024390243902439 0.4301075268817204\n",
      "\n",
      "total\n",
      "0.7210031347962382 0.696035242290749 0.7142857142857143\n",
      "957 227 252\n"
     ]
    }
   ],
   "source": [
    "print3classes(wrongfile0,wrongfile1)"
   ]
  },
  {
   "cell_type": "code",
   "execution_count": null,
   "id": "b86209cb",
   "metadata": {},
   "outputs": [],
   "source": []
  },
  {
   "cell_type": "markdown",
   "id": "35c08acf",
   "metadata": {},
   "source": [
    "### 4). test with bilstm train with oversampling data"
   ]
  },
  {
   "cell_type": "code",
   "execution_count": 116,
   "id": "f5d6d87c",
   "metadata": {},
   "outputs": [
    {
     "data": {
      "text/plain": [
       "<All keys matched successfully>"
      ]
     },
     "execution_count": 116,
     "metadata": {},
     "output_type": "execute_result"
    }
   ],
   "source": [
    "model = MyModel_LSTM(41,2)\n",
    "#optimizer = torch.optim.Adam(model.parameters(), lr=learning_rate)\n",
    "\n",
    "check_dict=torch.load('model-oversampling.ph',map_location=None) #model-bilstm-all.ph model-oversampling.ph\n",
    "model.load_state_dict(check_dict['model'])"
   ]
  },
  {
   "cell_type": "markdown",
   "id": "2c503328",
   "metadata": {},
   "source": [
    "#### accuracy"
   ]
  },
  {
   "cell_type": "code",
   "execution_count": 117,
   "id": "b2f14626",
   "metadata": {},
   "outputs": [
    {
     "name": "stdout",
     "output_type": "stream",
     "text": [
      "4\n",
      "4\n",
      "tensor([0, 1, 1, 0, 1, 0, 0, 0, 0, 1, 1, 1, 0, 0, 1, 0, 0, 0, 1, 0, 0, 1, 0, 0,\n",
      "        1, 1, 1, 0, 1, 1, 1, 1, 0, 1, 0, 0, 1, 1, 0, 1, 1, 1, 0, 1, 1, 1, 1, 0,\n",
      "        0, 1, 1, 0, 1, 0, 0, 1, 1, 0, 0, 1, 1, 0, 0, 0, 1, 1, 1, 1, 1, 1, 1, 0,\n",
      "        1, 0, 1, 1, 1, 0, 0, 0, 0, 0, 0, 0, 0, 1, 0, 1, 1, 0, 1, 0, 1, 0, 0, 0,\n",
      "        1, 1, 1, 0, 1, 0, 1, 1, 1, 1, 1, 0, 1, 1, 0, 1, 0, 1, 1, 1, 1, 1, 1, 0,\n",
      "        0, 0, 1, 0, 1, 0, 0, 1, 0, 0, 0, 1, 1, 0, 1, 1, 0, 1, 0, 0, 0, 1, 0, 1,\n",
      "        1, 1, 1, 1, 0, 1, 1, 0, 0, 1, 1, 1, 1, 1, 0, 1, 1, 0, 1, 0, 1, 0, 0, 0,\n",
      "        0, 1, 0, 1, 0, 0, 1, 1, 0, 1, 1, 1, 1, 1, 0, 0, 1, 1, 1, 1, 0, 1, 0, 0,\n",
      "        0, 1, 0, 1, 0, 0, 1, 0, 0, 0, 1, 0, 1, 1, 1, 1, 0, 0, 1, 1, 0, 0, 1, 0,\n",
      "        0, 0, 0, 0, 0, 0, 0, 1, 1, 0, 1, 1, 0, 0, 0, 0, 0, 1, 1, 0, 1, 0, 0, 0,\n",
      "        1, 1, 1, 0, 0, 0, 0, 0, 0, 0, 0, 1, 1, 1, 0, 0, 1, 0, 1, 0, 1, 1, 1, 1,\n",
      "        1, 1, 1, 1, 0, 0, 0, 1, 1, 0, 0, 1, 1, 1, 1, 0, 0, 0, 1, 1, 1, 1, 0, 1,\n",
      "        1, 1, 1, 1, 1, 1, 0, 1, 1, 0, 0, 0, 1, 1, 1, 0, 1, 1, 1, 1, 0, 1, 0, 0,\n",
      "        0, 0, 0, 0, 1, 1, 0, 1, 1, 1, 1, 0, 1, 1, 1, 0, 1, 1, 0, 1, 1, 0, 0, 1,\n",
      "        0, 0, 0, 0, 1, 0, 0, 0, 1, 1, 0, 1, 0, 1, 0, 1, 0, 0, 0, 1, 1, 0, 1]) \n",
      " tensor([1, 1, 1, 0, 0, 0, 0, 0, 1, 1, 1, 1, 0, 0, 0, 0, 0, 0, 1, 1, 1, 1, 1, 1,\n",
      "        1, 1, 0, 0, 0, 0, 0, 0, 0, 0, 0, 0, 0, 1, 0, 0, 0, 0, 0, 0, 0, 0, 0, 0,\n",
      "        0, 1, 1, 0, 0, 0, 0, 0, 1, 1, 1, 1, 0, 0, 0, 0, 1, 1, 1, 1, 1, 1, 1, 0,\n",
      "        0, 0, 0, 1, 1, 0, 0, 0, 0, 0, 0, 0, 1, 1, 1, 0, 0, 0, 0, 0, 1, 0, 0, 0,\n",
      "        1, 1, 0, 0, 0, 0, 0, 0, 1, 1, 1, 0, 0, 0, 0, 0, 0, 1, 1, 0, 0, 0, 0, 0,\n",
      "        0, 0, 1, 1, 1, 0, 0, 0, 0, 0, 0, 0, 1, 0, 0, 0, 0, 0, 0, 0, 0, 1, 1, 1,\n",
      "        1, 0, 0, 0, 0, 0, 0, 0, 0, 1, 1, 0, 0, 0, 0, 0, 0, 0, 1, 1, 1, 0, 0, 0,\n",
      "        0, 0, 1, 1, 1, 0, 0, 0, 0, 0, 1, 0, 0, 0, 0, 0, 1, 1, 1, 1, 0, 0, 0, 0,\n",
      "        0, 1, 1, 1, 0, 0, 0, 0, 0, 0, 0, 0, 1, 1, 1, 0, 0, 0, 0, 1, 0, 0, 0, 0,\n",
      "        0, 0, 0, 0, 0, 0, 0, 1, 0, 0, 0, 0, 0, 0, 0, 0, 0, 0, 0, 1, 1, 0, 0, 0,\n",
      "        0, 1, 1, 1, 0, 0, 0, 0, 0, 0, 0, 1, 1, 1, 1, 0, 0, 0, 0, 0, 0, 0, 0, 0,\n",
      "        1, 1, 1, 1, 0, 0, 0, 0, 0, 0, 0, 0, 1, 1, 0, 0, 0, 0, 1, 1, 1, 1, 0, 0,\n",
      "        0, 0, 0, 0, 1, 1, 0, 0, 0, 0, 0, 0, 1, 1, 1, 0, 0, 0, 0, 0, 0, 0, 0, 1,\n",
      "        0, 0, 0, 0, 1, 1, 1, 1, 1, 1, 0, 0, 0, 0, 1, 1, 1, 1, 0, 0, 0, 0, 0, 1,\n",
      "        1, 0, 0, 0, 0, 0, 0, 0, 0, 1, 1, 1, 0, 0, 0, 0, 0, 0, 0, 0, 0, 1, 1])\n",
      "tensor(232) 359\n",
      "Training loss: 0.75571, accuracy: 64.62\n",
      "3\n",
      "tensor([1, 0, 0, 0, 0, 0, 1, 1, 1, 0, 0, 0, 0, 1, 1, 0, 1, 0, 0, 1, 1, 0, 1, 0,\n",
      "        1, 1, 1, 0, 1, 0, 1, 0, 1, 1, 1, 0, 0, 1, 0, 1, 0, 0, 0, 1, 0, 1, 0, 0,\n",
      "        0, 1, 0, 0, 0, 1, 0, 0, 0, 0, 1, 0, 1, 0, 0, 0, 0, 0, 0, 0, 1, 1, 0, 1,\n",
      "        0, 0, 1, 1, 0, 0, 0, 0, 1, 0, 1, 1, 1, 0, 0, 1, 0, 0, 1, 1, 0, 0, 0, 1,\n",
      "        1, 0, 0, 0, 0, 0, 1, 0, 1, 1, 0, 1, 1, 0, 0, 1, 0, 0, 0, 0, 0, 1, 1, 0,\n",
      "        1, 0, 0, 0, 0, 1, 0, 0, 0, 0, 1, 0, 1, 1, 1, 0, 0, 0, 0, 1, 1, 1, 1, 1,\n",
      "        0, 1, 0, 1, 0, 1, 1, 0, 0, 0, 0, 0, 0, 1, 0, 0, 0, 0, 0, 0, 1, 1, 0, 0,\n",
      "        0, 0, 0, 0, 0, 0, 0, 0, 0, 0, 0, 0, 0, 0, 1, 1, 0, 0, 0, 1, 1, 0, 0, 1,\n",
      "        1, 1, 1, 1, 1, 1, 0, 0, 1, 0, 1, 0, 0, 1, 1, 0, 0, 0, 1, 0, 1, 1, 1, 1,\n",
      "        1, 1, 0, 1, 1, 1, 1, 1, 1, 1, 1, 1, 0, 0, 1, 0, 0, 1, 1, 0, 1, 0, 1, 1,\n",
      "        0, 0, 0, 0, 0, 1, 1, 0, 0, 1, 0, 1, 0, 1, 1, 0, 1, 1, 0, 1, 0, 0, 1, 1,\n",
      "        0, 1, 0, 0, 1, 0, 1, 1, 1, 1, 1, 1, 1, 0, 1, 1, 1, 1, 0, 1, 1, 1, 0, 1,\n",
      "        1, 0, 0, 0, 0, 0, 1, 1, 1, 1, 1, 0, 1, 1, 1, 0, 0, 0, 0, 1, 1, 0, 1, 0,\n",
      "        0, 0, 0, 1, 0, 0, 0, 0, 0, 0, 1, 0, 0, 1, 1, 0, 0, 1, 0, 0, 1, 1, 0, 1,\n",
      "        1, 1, 1, 1, 0, 1, 1, 1, 1, 1, 1, 0, 1, 0, 0, 0, 1, 1, 0, 1, 0, 0, 1]) \n",
      " tensor([1, 0, 0, 0, 0, 0, 1, 1, 1, 1, 1, 0, 0, 0, 0, 0, 0, 0, 0, 1, 1, 1, 1, 0,\n",
      "        0, 0, 1, 1, 1, 0, 0, 0, 0, 0, 0, 0, 0, 0, 0, 1, 1, 1, 0, 0, 0, 0, 0, 0,\n",
      "        0, 1, 1, 0, 0, 0, 0, 0, 0, 0, 1, 1, 1, 1, 1, 0, 0, 0, 0, 0, 1, 1, 0, 0,\n",
      "        0, 0, 1, 1, 1, 0, 0, 0, 0, 0, 1, 1, 1, 1, 0, 0, 0, 0, 0, 0, 1, 1, 1, 1,\n",
      "        1, 1, 0, 0, 0, 0, 1, 1, 1, 0, 0, 0, 0, 0, 0, 0, 0, 1, 1, 1, 0, 0, 0, 0,\n",
      "        1, 1, 1, 0, 0, 0, 0, 0, 0, 0, 1, 1, 1, 0, 0, 0, 0, 0, 0, 0, 1, 1, 1, 1,\n",
      "        0, 0, 0, 0, 1, 1, 1, 0, 0, 0, 0, 0, 0, 1, 0, 0, 0, 0, 0, 0, 1, 1, 0, 0,\n",
      "        0, 0, 0, 0, 0, 0, 0, 0, 1, 0, 0, 0, 0, 0, 1, 1, 0, 0, 0, 0, 0, 0, 0, 0,\n",
      "        0, 1, 1, 1, 1, 1, 0, 0, 0, 0, 1, 0, 0, 0, 0, 0, 0, 0, 0, 1, 1, 1, 0, 0,\n",
      "        0, 0, 0, 0, 1, 0, 0, 0, 1, 1, 1, 1, 0, 0, 0, 0, 0, 1, 1, 1, 1, 0, 0, 0,\n",
      "        0, 1, 1, 0, 0, 0, 0, 0, 0, 0, 0, 0, 0, 1, 0, 0, 0, 0, 0, 1, 1, 1, 1, 1,\n",
      "        0, 0, 0, 0, 0, 0, 0, 1, 1, 1, 1, 1, 0, 0, 0, 0, 0, 0, 1, 1, 1, 0, 0, 0,\n",
      "        1, 1, 1, 0, 0, 0, 0, 1, 1, 1, 1, 1, 1, 1, 1, 0, 0, 0, 0, 1, 1, 0, 0, 0,\n",
      "        0, 0, 0, 1, 1, 1, 0, 0, 0, 0, 0, 0, 0, 1, 1, 0, 0, 0, 0, 0, 1, 1, 1, 1,\n",
      "        0, 0, 0, 0, 0, 1, 1, 1, 1, 1, 1, 0, 0, 0, 0, 0, 0, 0, 1, 1, 1, 1, 0])\n",
      "tensor(472) 718\n",
      "Training loss: 0.74646, accuracy: 65.74\n",
      "2\n",
      "tensor([1, 1, 1, 0, 1, 1, 1, 0, 0, 1, 1, 0, 1, 0, 0, 0, 1, 1, 1, 0, 0, 1, 0, 0,\n",
      "        0, 1, 0, 1, 0, 0, 1, 0, 0, 1, 1, 1, 1, 0, 1, 1, 1, 0, 1, 0, 1, 0, 1, 1,\n",
      "        1, 1, 0, 0, 0, 1, 1, 0, 0, 1, 1, 0, 1, 0, 0, 0, 1, 1, 0, 0, 0, 0, 1, 0,\n",
      "        1, 1, 1, 0, 1, 1, 1, 1, 1, 1, 0, 1, 0, 0, 0, 1, 1, 0, 1, 1, 0, 0, 1, 0,\n",
      "        1, 0, 1, 1, 1, 0, 1, 1, 0, 1, 0, 1, 1, 1, 1, 1, 1, 1, 1, 1, 1, 1, 0, 0,\n",
      "        1, 0, 0, 0, 1, 0, 1, 0, 1, 0, 0, 0, 1, 0, 0, 0, 1, 1, 0, 0, 0, 0, 0, 0,\n",
      "        0, 0, 1, 1, 0, 1, 1, 0, 0, 0, 0, 1, 1, 0, 0, 0, 1, 1, 0, 1, 1, 1, 0, 0,\n",
      "        0, 0, 1, 0, 1, 1, 0, 0, 0, 0, 0, 0, 1, 0, 1, 1, 0, 1, 0, 0, 0, 0, 0, 0,\n",
      "        0, 0, 1, 1, 1, 1, 0, 1, 1, 1, 1, 0, 0, 0, 1, 0, 0, 0, 0, 0, 0, 1, 1, 0,\n",
      "        0, 0, 0, 1, 0, 1, 1, 1, 1, 1, 1, 1, 0, 0, 1, 1, 0, 0, 0, 1, 0, 1, 1, 0,\n",
      "        0, 0, 0, 0, 1, 1, 0, 0, 1, 1, 1, 0, 0, 0, 0, 0, 1, 0, 1, 1, 1, 1, 1, 1,\n",
      "        0, 0, 0, 0, 0, 0, 0, 0, 0, 1, 1, 0, 0, 0, 1, 0, 1, 0, 0, 0, 1, 0, 0, 0,\n",
      "        0, 1, 0, 1, 0, 1, 1, 1, 0, 0, 0, 0, 0, 0, 1, 1, 1, 1, 1, 0, 0, 0, 1, 1,\n",
      "        1, 0, 1, 0, 0, 0, 1, 0, 0, 0, 0, 0, 0, 1, 1, 0, 0, 0, 1, 1, 1, 1, 0, 1,\n",
      "        1, 1, 1, 0, 1, 1, 1, 1, 0, 0, 1, 0, 1, 0, 0, 0, 0, 1, 1, 0, 1, 1, 0]) \n",
      " tensor([0, 0, 0, 0, 0, 1, 1, 0, 0, 0, 0, 0, 0, 0, 0, 0, 1, 0, 0, 0, 1, 1, 0, 0,\n",
      "        0, 0, 0, 1, 0, 0, 0, 0, 0, 1, 0, 0, 0, 0, 1, 1, 1, 0, 0, 0, 0, 0, 1, 1,\n",
      "        1, 1, 1, 0, 0, 0, 0, 0, 1, 1, 1, 1, 1, 0, 0, 0, 0, 0, 0, 0, 0, 0, 0, 0,\n",
      "        1, 1, 1, 0, 0, 1, 1, 1, 1, 1, 0, 0, 0, 0, 0, 1, 1, 1, 1, 1, 0, 0, 0, 0,\n",
      "        0, 0, 1, 1, 1, 1, 1, 0, 0, 0, 0, 0, 1, 1, 1, 0, 0, 1, 1, 1, 1, 1, 0, 0,\n",
      "        0, 0, 0, 0, 1, 1, 1, 1, 1, 0, 0, 0, 0, 0, 0, 0, 0, 0, 0, 0, 1, 0, 0, 0,\n",
      "        0, 0, 1, 1, 1, 1, 1, 0, 0, 0, 0, 0, 1, 0, 0, 0, 1, 1, 0, 0, 0, 0, 0, 0,\n",
      "        0, 0, 0, 0, 1, 1, 0, 0, 0, 0, 0, 0, 1, 1, 1, 1, 1, 1, 0, 0, 0, 0, 0, 0,\n",
      "        0, 0, 1, 1, 1, 1, 1, 1, 1, 1, 1, 0, 0, 0, 0, 0, 0, 0, 0, 0, 0, 1, 1, 0,\n",
      "        0, 0, 0, 0, 0, 0, 1, 1, 1, 1, 0, 0, 0, 0, 1, 1, 0, 0, 0, 0, 0, 0, 1, 0,\n",
      "        0, 0, 0, 0, 0, 0, 0, 0, 1, 1, 1, 0, 0, 0, 0, 0, 1, 1, 1, 1, 1, 1, 1, 1,\n",
      "        0, 0, 0, 0, 0, 0, 0, 0, 0, 1, 0, 0, 0, 0, 1, 1, 1, 1, 1, 0, 0, 0, 0, 0,\n",
      "        0, 0, 0, 1, 1, 1, 1, 1, 1, 0, 0, 0, 0, 0, 0, 1, 1, 1, 1, 0, 0, 0, 1, 1,\n",
      "        1, 1, 1, 1, 1, 0, 0, 0, 0, 0, 0, 1, 1, 1, 1, 0, 0, 0, 1, 1, 1, 1, 0, 0,\n",
      "        0, 0, 0, 0, 0, 1, 1, 1, 1, 0, 1, 1, 1, 0, 0, 0, 0, 0, 0, 0, 0, 0, 0])\n",
      "tensor(743) 1077\n",
      "Training loss: 0.69350, accuracy: 68.99\n",
      "1\n",
      "tensor([0, 0, 0, 1, 1, 1, 0, 1, 0, 1, 1, 0, 1, 1, 0, 0, 1, 1, 0, 0, 1, 1, 0, 1,\n",
      "        0, 0, 0, 0, 0, 0, 0, 0, 0, 0, 1, 0, 0, 0, 1, 1, 0, 1, 0, 0, 0, 0, 1, 0,\n",
      "        1, 0, 1, 0, 1, 1, 1, 0, 0, 0, 1, 1, 1, 1, 0, 0, 1, 0, 1, 0, 1, 1, 0, 0,\n",
      "        1, 0, 1, 0, 0, 0, 0, 1, 0, 1, 1, 1, 0, 1, 1, 0, 1, 0, 0, 1, 0, 0, 0, 1,\n",
      "        1, 1, 1, 1, 0, 1, 1, 1, 1, 0, 0, 0, 0, 1, 0, 0, 0, 0, 0, 0, 1, 1, 1, 1,\n",
      "        1, 0, 1, 0, 0, 0, 0, 0, 0, 0, 0, 1, 0, 1, 0, 0, 0, 0, 0, 0, 1, 0, 0, 1,\n",
      "        1, 1, 0, 1, 0, 0, 0, 0, 1, 0, 1, 0, 0, 0, 1, 1, 1, 1, 1, 1, 0, 1, 0, 0,\n",
      "        0, 1, 1, 1, 1, 0, 1, 1, 1, 0, 0, 0, 0, 0, 1, 1, 0, 0, 1, 0, 0, 1, 1, 1,\n",
      "        0, 1, 1, 1, 0, 1, 1, 1, 1, 1, 0, 1, 0, 0, 1, 0, 1, 1, 0, 1, 1, 0, 1, 1,\n",
      "        1, 1, 1, 0, 1, 1, 1, 1, 0, 0, 0, 1, 0, 0, 1, 1, 1, 0, 1, 0, 0, 1, 1, 0,\n",
      "        1, 1, 1, 0, 0, 0, 1, 1, 0, 1, 0, 0, 0, 1, 1, 1, 1, 1, 1, 1, 0, 0, 1, 0,\n",
      "        1, 1, 1, 1, 0, 0, 0, 1, 0, 0, 0, 1, 1, 1, 0, 1, 1, 1, 0, 1, 1, 0, 0, 1,\n",
      "        1, 0, 1, 0, 1, 1, 0, 0, 0, 1, 0, 0, 0, 1, 0, 0, 0, 1, 0, 0, 1, 0, 0, 0,\n",
      "        0, 1, 1, 0, 0, 1, 1, 1, 1, 1, 0, 1, 1, 1, 0, 0, 0, 1, 1, 0, 0, 1, 0, 1,\n",
      "        0, 0, 0, 1, 0, 0, 0, 1, 1, 1, 1, 0, 0, 0, 0, 0, 0, 0, 1, 0, 0, 0, 0]) \n",
      " tensor([0, 0, 0, 1, 1, 1, 1, 1, 1, 1, 0, 0, 0, 0, 0, 0, 1, 1, 1, 0, 0, 0, 0, 1,\n",
      "        1, 0, 0, 0, 0, 0, 0, 0, 0, 0, 1, 0, 0, 0, 0, 1, 0, 0, 0, 0, 0, 0, 0, 1,\n",
      "        1, 0, 0, 0, 1, 1, 1, 0, 0, 0, 1, 1, 1, 1, 0, 0, 1, 0, 0, 1, 1, 1, 0, 0,\n",
      "        0, 0, 0, 0, 0, 1, 1, 1, 0, 0, 1, 1, 1, 1, 0, 0, 0, 0, 0, 0, 0, 0, 0, 1,\n",
      "        1, 1, 0, 0, 0, 0, 0, 1, 1, 0, 0, 0, 0, 0, 0, 0, 1, 1, 0, 0, 0, 1, 1, 1,\n",
      "        0, 0, 0, 0, 0, 1, 1, 1, 0, 0, 0, 0, 0, 0, 0, 0, 0, 1, 1, 1, 1, 0, 0, 0,\n",
      "        1, 0, 0, 0, 0, 0, 0, 1, 0, 0, 0, 0, 0, 0, 0, 1, 1, 1, 1, 0, 0, 0, 0, 0,\n",
      "        0, 0, 0, 0, 0, 0, 0, 1, 1, 0, 0, 0, 0, 0, 1, 1, 1, 0, 0, 0, 1, 1, 1, 1,\n",
      "        0, 0, 0, 0, 0, 1, 1, 1, 1, 1, 0, 0, 0, 0, 1, 0, 0, 0, 0, 0, 0, 0, 1, 1,\n",
      "        1, 1, 1, 0, 0, 0, 0, 0, 0, 0, 0, 0, 0, 0, 0, 1, 1, 1, 1, 0, 0, 0, 0, 0,\n",
      "        0, 1, 1, 1, 0, 0, 0, 0, 0, 1, 1, 1, 1, 0, 0, 0, 0, 1, 1, 1, 0, 0, 0, 0,\n",
      "        0, 1, 1, 1, 0, 0, 0, 1, 0, 0, 0, 1, 1, 0, 0, 0, 0, 0, 0, 0, 0, 1, 1, 1,\n",
      "        1, 0, 0, 0, 0, 0, 1, 1, 1, 1, 0, 0, 0, 0, 0, 0, 0, 1, 1, 0, 0, 0, 0, 0,\n",
      "        0, 0, 0, 0, 0, 1, 1, 1, 1, 1, 0, 0, 0, 0, 0, 0, 0, 1, 1, 0, 0, 0, 0, 0,\n",
      "        1, 0, 0, 0, 0, 0, 0, 0, 0, 1, 1, 0, 0, 1, 1, 1, 0, 0, 0, 0, 0, 0, 0])\n",
      "tensor(980) 1436\n",
      "Training loss: 0.68545, accuracy: 68.25\n"
     ]
    }
   ],
   "source": [
    "prediction_all_test, targets_all_test,thewrong0,thewrong1=eval_data(test_loader) #accuracy:58.72 。 68.89"
   ]
  },
  {
   "cell_type": "markdown",
   "id": "a6acb221",
   "metadata": {},
   "source": [
    "#### confusion matrix"
   ]
  },
  {
   "cell_type": "code",
   "execution_count": 118,
   "id": "4fe26dc5",
   "metadata": {},
   "outputs": [
    {
     "data": {
      "image/png": "[encoded data removed]",
      "text/plain": [
       "<Figure size 640x480 with 2 Axes>"
      ]
     },
     "metadata": {},
     "output_type": "display_data"
    }
   ],
   "source": [
    "y_true=[]\n",
    "for i in targets_all_test:\n",
    "    for j in i:\n",
    "        #print(int(j),type(int(j)))\n",
    "        y_true.append(j)\n",
    "        \n",
    "y_pred=[]\n",
    "for i in prediction_all_test:\n",
    "    for j in i:\n",
    "        #print(int(j),type(int(j)))\n",
    "        y_pred.append(j)\n",
    "        \n",
    "confusion_mat = confusion_matrix(y_true, y_pred)\n",
    "plot_confusion_matrix(confusion_mat)"
   ]
  },
  {
   "cell_type": "code",
   "execution_count": 119,
   "id": "930923e5",
   "metadata": {},
   "outputs": [
    {
     "name": "stdout",
     "output_type": "stream",
     "text": [
      "Precision: [0.82767978 0.52932761]\n",
      "Recall: [0.64962726 0.7444668 ]\n",
      "F1-score: [0.72792363 0.6187291 ]\n"
     ]
    }
   ],
   "source": [
    "truey=[]\n",
    "predy=[]\n",
    "for i in targets_all_test:\n",
    "    for j in i:\n",
    "        #print(int(j),type(int(j)))\n",
    "        truey.append(int(j))\n",
    "for i in prediction_all_test:\n",
    "    for j in i:\n",
    "        #print(int(j),type(int(j)))\n",
    "        predy.append(int(j))\n",
    "\n",
    "prec, rec, f1, _ = sklearn.metrics.precision_recall_fscore_support(\n",
    "   truey,predy, average=None \n",
    ")\n",
    "print(\"Precision:\", prec)\n",
    "print(\"Recall:\", rec)\n",
    "print(\"F1-score:\", f1)"
   ]
  },
  {
   "cell_type": "markdown",
   "id": "f341fab6",
   "metadata": {},
   "source": [
    "#### styles of speech analysis"
   ]
  },
  {
   "cell_type": "code",
   "execution_count": 120,
   "id": "0809ac8f",
   "metadata": {
    "collapsed": true
   },
   "outputs": [
    {
     "name": "stdout",
     "output_type": "stream",
     "text": [
      "1436 1436\n",
      "[4, 14, 26, 28, 29, 30, 31, 33, 36, 39, 40, 41, 43, 44, 45, 46, 52, 55, 60, 72, 74, 87, 88, 90, 98, 100, 102, 103, 108, 109, 111, 115, 116, 117, 118, 127, 131, 134, 135, 137, 145, 146, 147, 149, 150, 155, 156, 157, 159, 160, 169, 174, 175, 177, 179, 180, 181, 189, 198, 202, 207, 210, 214, 224, 226, 227, 233, 234, 240, 256, 258, 260, 261, 262, 263, 271, 272, 275, 278, 287, 288, 289, 290, 291, 295, 296, 304, 305, 306, 307, 309, 322, 324, 325, 331, 332, 340, 344, 349, 351, 355, 356, 372, 373, 375, 383, 384, 389, 391, 392, 393, 396, 402, 404, 412, 430, 439, 446, 449, 450, 464, 466, 467, 470, 476, 477, 484, 492, 493, 498, 504, 506, 546, 547, 550, 551, 559, 564, 565, 569, 573, 574, 575, 576, 578, 580, 581, 582, 589, 597, 598, 604, 605, 608, 610, 613, 615, 616, 624, 627, 629, 635, 637, 638, 639, 640, 644, 646, 653, 669, 681, 688, 695, 696, 697, 698, 707, 711, 712, 717, 718, 719, 720, 722, 727, 728, 730, 735, 736, 743, 748, 752, 753, 754, 760, 762, 771, 772, 782, 783, 788, 794, 801, 812, 814, 821, 823, 825, 829, 830, 838, 850, 854, 855, 873, 881, 882, 883, 888, 924, 937, 939, 944, 945, 953, 955, 962, 963, 992, 1002, 1007, 1020, 1036, 1053, 1054, 1055, 1056, 1058, 1071, 1072, 1074, 1075, 1087, 1089, 1090, 1097, 1098, 1115, 1118, 1123, 1127, 1143, 1149, 1151, 1158, 1163, 1165, 1168, 1175, 1176, 1178, 1179, 1186, 1193, 1197, 1199, 1208, 1210, 1220, 1222, 1224, 1229, 1231, 1235, 1240, 1242, 1246, 1247, 1248, 1249, 1251, 1263, 1270, 1271, 1272, 1280, 1285, 1286, 1288, 1289, 1297, 1298, 1299, 1300, 1304, 1307, 1314, 1315, 1317, 1323, 1324, 1330, 1331, 1332, 1333, 1339, 1341, 1354, 1356, 1357, 1358, 1360, 1361, 1367, 1369, 1370, 1378, 1385, 1390, 1391, 1400, 1401, 1402, 1410, 1412, 1416, 1420, 1421, 1431]\n",
      "[0, 8, 19, 20, 22, 23, 57, 58, 84, 86, 123, 142, 163, 170, 172, 194, 235, 243, 254, 311, 318, 327, 336, 346, 357, 368, 369, 380, 386, 399, 400, 409, 418, 420, 421, 435, 444, 451, 452, 453, 456, 462, 472, 473, 474, 480, 481, 490, 507, 535, 570, 594, 600, 601, 619, 620, 641, 648, 649, 658, 675, 676, 693, 713, 715, 716, 738, 768, 774, 777, 807, 819, 843, 845, 858, 866, 899, 902, 916, 975, 997, 999, 1000, 1010, 1014, 1031, 1033, 1034, 1041, 1042, 1062, 1065, 1083, 1085, 1095, 1101, 1124, 1144, 1154, 1155, 1161, 1189, 1190, 1202, 1203, 1204, 1214, 1215, 1216, 1228, 1261, 1265, 1310, 1320, 1327, 1328, 1329, 1362, 1363, 1371, 1372, 1373, 1383, 1413, 1426, 1427, 1428]\n"
     ]
    }
   ],
   "source": [
    "thewrong0=[]\n",
    "thewrong1=[]\n",
    "print(len(truey),len(predy))\n",
    "for i in range(len(truey)):\n",
    "    if truey[i]!=predy[i]:\n",
    "        if truey[i]==0:\n",
    "            thewrong0.append(i)\n",
    "        else:\n",
    "            thewrong1.append(i)\n",
    "print(thewrong0)\n",
    "print(thewrong1)    \n",
    "\n",
    "wrongfile0=[]\n",
    "for i in thewrong0:\n",
    "    wrongfile0.append(thefile[i])\n",
    "\n",
    "wrongfile1=[]\n",
    "for j in thewrong1:\n",
    "    wrongfile1.append(thefile[j])"
   ]
  },
  {
   "cell_type": "code",
   "execution_count": 121,
   "id": "99092c85",
   "metadata": {},
   "outputs": [
    {
     "name": "stdout",
     "output_type": "stream",
     "text": [
      "635 145 159\n",
      "0.6762513312034079 0.154419595314164 0.16932907348242812\n",
      "322 82 93\n",
      "0.647887323943662 0.16498993963782696 0.18712273641851107\n",
      "939 497\n",
      "\n",
      "329\n",
      "204 66 59\n",
      "0.6200607902735562 0.2006079027355623 0.17933130699088146\n",
      "0.6787401574803149 0.5448275862068965 0.628930817610063\n",
      "127\n",
      "77 23 27\n",
      "0.6062992125984252 0.18110236220472442 0.2125984251968504\n",
      "0.7608695652173914 0.7195121951219512 0.7096774193548387\n",
      "\n",
      "total\n",
      "0.7063740856844305 0.6079295154185023 0.6587301587301587\n",
      "957 227 252\n"
     ]
    }
   ],
   "source": [
    "print3classes(wrongfile0,wrongfile1)"
   ]
  },
  {
   "cell_type": "code",
   "execution_count": 101,
   "id": "38e19d21",
   "metadata": {},
   "outputs": [],
   "source": []
  },
  {
   "cell_type": "code",
   "execution_count": null,
   "id": "79f46674",
   "metadata": {},
   "outputs": [],
   "source": []
  },
  {
   "cell_type": "code",
   "execution_count": null,
   "id": "e2f6ff46",
   "metadata": {},
   "outputs": [],
   "source": []
  },
  {
   "cell_type": "code",
   "execution_count": null,
   "id": "ee6d90e7",
   "metadata": {},
   "outputs": [],
   "source": []
  },
  {
   "cell_type": "code",
   "execution_count": null,
   "id": "81560730",
   "metadata": {},
   "outputs": [],
   "source": []
  },
  {
   "cell_type": "code",
   "execution_count": null,
   "id": "f9ded5fa",
   "metadata": {},
   "outputs": [],
   "source": []
  }
 ],
 "metadata": {
  "kernelspec": {
   "display_name": "Python 3 (ipykernel)",
   "language": "python",
   "name": "python3"
  },
  "language_info": {
   "codemirror_mode": {
    "name": "ipython",
    "version": 3
   },
   "file_extension": ".py",
   "mimetype": "text/x-python",
   "name": "python",
   "nbconvert_exporter": "python",
   "pygments_lexer": "ipython3",
   "version": "3.10.8"
  }
 },
 "nbformat": 4,
 "nbformat_minor": 5
}
